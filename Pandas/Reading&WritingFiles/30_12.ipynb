{
 "cells": [
  {
   "cell_type": "code",
   "execution_count": 1,
   "metadata": {},
   "outputs": [],
   "source": [
    "import numpy as np \n",
    "import pandas as pd "
   ]
  },
  {
   "cell_type": "code",
   "execution_count": 2,
   "metadata": {},
   "outputs": [],
   "source": [
    "# to read data from xml files\n",
    "from lxml import objectify"
   ]
  },
  {
   "cell_type": "code",
   "execution_count": 4,
   "metadata": {},
   "outputs": [],
   "source": [
    "xml = objectify.parse('books.xml')"
   ]
  },
  {
   "cell_type": "code",
   "execution_count": 5,
   "metadata": {},
   "outputs": [
    {
     "data": {
      "text/plain": [
       "<lxml.etree._ElementTree at 0x17a60e37740>"
      ]
     },
     "execution_count": 5,
     "metadata": {},
     "output_type": "execute_result"
    }
   ],
   "source": [
    "xml"
   ]
  },
  {
   "cell_type": "markdown",
   "metadata": {},
   "source": [
    "You got an object tree, which is an internal data structure of the module lxml.\n",
    "Look in more detail at this type of object. To navigate in this tree structure, so as to select\n",
    "element by element, you must first define the root. You can do this with the **getroot()** function.\n"
   ]
  },
  {
   "cell_type": "code",
   "execution_count": 6,
   "metadata": {},
   "outputs": [],
   "source": [
    "root = xml.getroot()"
   ]
  },
  {
   "cell_type": "markdown",
   "metadata": {},
   "source": [
    "Now that the root of the structure has been defined, you can access the various nodes of the tree, each\n",
    "corresponding to the tag contained within the original XML file. The items will have the same name as\n",
    "the corresponding tags. So to select them simply write the various separate tags with points, reflecting in a\n",
    "certain way the hierarchy of nodes in the tree"
   ]
  },
  {
   "cell_type": "code",
   "execution_count": 8,
   "metadata": {},
   "outputs": [
    {
     "data": {
      "text/plain": [
       "'Ross, Mark'"
      ]
     },
     "execution_count": 8,
     "metadata": {},
     "output_type": "execute_result"
    }
   ],
   "source": [
    "root.Book.Author"
   ]
  },
  {
   "cell_type": "code",
   "execution_count": 10,
   "metadata": {},
   "outputs": [
    {
     "data": {
      "text/plain": [
       "'2014-22-01'"
      ]
     },
     "execution_count": 10,
     "metadata": {},
     "output_type": "execute_result"
    }
   ],
   "source": [
    "root.Book.PublishDate"
   ]
  },
  {
   "cell_type": "markdown",
   "metadata": {},
   "source": [
    "In this way you access nodes individually, but you can access various elements at the same time using\n",
    "getchildren(). With this function, you’ll get all the child nodes of the reference element.\n"
   ]
  },
  {
   "cell_type": "code",
   "execution_count": 11,
   "metadata": {},
   "outputs": [
    {
     "data": {
      "text/plain": [
       "[<Element Book at 0x17a60f68c00>, <Element Book at 0x17a60fc9880>]"
      ]
     },
     "execution_count": 11,
     "metadata": {},
     "output_type": "execute_result"
    }
   ],
   "source": [
    "root.getchildren()"
   ]
  },
  {
   "cell_type": "markdown",
   "metadata": {},
   "source": [
    "With the tag attribute you get the name of the **tag** corresponding to the child node."
   ]
  },
  {
   "cell_type": "code",
   "execution_count": 12,
   "metadata": {},
   "outputs": [
    {
     "data": {
      "text/plain": [
       "['Author', 'Title', 'Genre', 'Price', 'PublishDate']"
      ]
     },
     "execution_count": 12,
     "metadata": {},
     "output_type": "execute_result"
    }
   ],
   "source": [
    "[child.tag for child in root.Book.getchildren()]"
   ]
  },
  {
   "cell_type": "markdown",
   "metadata": {},
   "source": [
    "while with the **text** attribute you get the value contained between the corresponding tags."
   ]
  },
  {
   "cell_type": "code",
   "execution_count": 13,
   "metadata": {},
   "outputs": [
    {
     "data": {
      "text/plain": [
       "['Ross, Mark', 'XML Cookbook', 'Computer', '23.56', '2014-22-01']"
      ]
     },
     "execution_count": 13,
     "metadata": {},
     "output_type": "execute_result"
    }
   ],
   "source": [
    "[child.text for child in root.Book.getchildren()]"
   ]
  },
  {
   "cell_type": "markdown",
   "metadata": {},
   "source": [
    "However, regardless of the ability to move through the lxml.etree tree structure, what you need is\n",
    "to convert it into a data frame. Define the following function, which has the task of analyzing the entire\n",
    "contents of a eTree to fill a DataFrame line by line."
   ]
  },
  {
   "cell_type": "code",
   "execution_count": 20,
   "metadata": {},
   "outputs": [],
   "source": [
    "def etree2df(root):\n",
    "    # Initialize column names and create an empty list to store rows\n",
    "    column_names = [child.tag for child in root.getchildren()[0].getchildren()]\n",
    "    rows = []\n",
    "    \n",
    "    # Iterate through each child in the root\n",
    "    for j in range(len(root.getchildren())):\n",
    "        obj = root.getchildren()[j].getchildren()\n",
    "        texts = [child.text for child in obj]  # Get text values for each element\n",
    "        \n",
    "        # Create a dictionary mapping column names to corresponding text values\n",
    "        row = dict(zip(column_names, texts))\n",
    "        \n",
    "        # zip fucntion creates list of tuples aggregated from the two iterables.\n",
    "        # for eg, zip(column_names, texts)  # Produces [('Author', 'Mark Ross'), ('Title', 'XML      Cookbook'), ('Genre', 'Computer'), ('Price', '23.56'), ('PublishDate', '2014-22-01')]\n",
    "        # further, The dict() function then turns this series of paired elements into a dictionary where the first item in each tuple becomes a key and the second item becomes the corresponding value.\n",
    "        \n",
    "        rows.append(row)\n",
    "    \n",
    "    print(row)\n",
    "    # Create DataFrame from the list of dictionaries\n",
    "    xml_frame = pd.DataFrame(rows, columns=column_names)\n",
    "    return xml_frame\n",
    "\n"
   ]
  },
  {
   "cell_type": "code",
   "execution_count": 21,
   "metadata": {},
   "outputs": [
    {
     "name": "stdout",
     "output_type": "stream",
     "text": [
      "{'Author': 'Bracket, Barbara', 'Title': 'XML for Dummies', 'Genre': 'Computer', 'Price': '35.95', 'PublishDate': '2014-12-16'}\n"
     ]
    },
    {
     "data": {
      "text/html": [
       "<div>\n",
       "<style scoped>\n",
       "    .dataframe tbody tr th:only-of-type {\n",
       "        vertical-align: middle;\n",
       "    }\n",
       "\n",
       "    .dataframe tbody tr th {\n",
       "        vertical-align: top;\n",
       "    }\n",
       "\n",
       "    .dataframe thead th {\n",
       "        text-align: right;\n",
       "    }\n",
       "</style>\n",
       "<table border=\"1\" class=\"dataframe\">\n",
       "  <thead>\n",
       "    <tr style=\"text-align: right;\">\n",
       "      <th></th>\n",
       "      <th>Author</th>\n",
       "      <th>Title</th>\n",
       "      <th>Genre</th>\n",
       "      <th>Price</th>\n",
       "      <th>PublishDate</th>\n",
       "    </tr>\n",
       "  </thead>\n",
       "  <tbody>\n",
       "    <tr>\n",
       "      <th>0</th>\n",
       "      <td>Ross, Mark</td>\n",
       "      <td>XML Cookbook</td>\n",
       "      <td>Computer</td>\n",
       "      <td>23.56</td>\n",
       "      <td>2014-22-01</td>\n",
       "    </tr>\n",
       "    <tr>\n",
       "      <th>1</th>\n",
       "      <td>Bracket, Barbara</td>\n",
       "      <td>XML for Dummies</td>\n",
       "      <td>Computer</td>\n",
       "      <td>35.95</td>\n",
       "      <td>2014-12-16</td>\n",
       "    </tr>\n",
       "  </tbody>\n",
       "</table>\n",
       "</div>"
      ],
      "text/plain": [
       "             Author            Title     Genre  Price PublishDate\n",
       "0        Ross, Mark     XML Cookbook  Computer  23.56  2014-22-01\n",
       "1  Bracket, Barbara  XML for Dummies  Computer  35.95  2014-12-16"
      ]
     },
     "execution_count": 21,
     "metadata": {},
     "output_type": "execute_result"
    }
   ],
   "source": [
    "etree2df(root)"
   ]
  },
  {
   "cell_type": "markdown",
   "metadata": {},
   "source": [
    "# Reading and Writing Data on Microsoft Excel Files"
   ]
  },
  {
   "cell_type": "code",
   "execution_count": 3,
   "metadata": {},
   "outputs": [
    {
     "ename": "ImportError",
     "evalue": "Missing optional dependency 'openpyxl'.  Use pip or conda to install openpyxl.",
     "output_type": "error",
     "traceback": [
      "\u001b[1;31m---------------------------------------------------------------------------\u001b[0m",
      "\u001b[1;31mModuleNotFoundError\u001b[0m                       Traceback (most recent call last)",
      "File \u001b[1;32mc:\\Users\\Aditya Mithar\\AppData\\Local\\Programs\\Python\\Python312\\Lib\\site-packages\\pandas\\compat\\_optional.py:132\u001b[0m, in \u001b[0;36mimport_optional_dependency\u001b[1;34m(name, extra, errors, min_version)\u001b[0m\n\u001b[0;32m    131\u001b[0m \u001b[38;5;28;01mtry\u001b[39;00m:\n\u001b[1;32m--> 132\u001b[0m     module \u001b[38;5;241m=\u001b[39m \u001b[43mimportlib\u001b[49m\u001b[38;5;241;43m.\u001b[39;49m\u001b[43mimport_module\u001b[49m\u001b[43m(\u001b[49m\u001b[43mname\u001b[49m\u001b[43m)\u001b[49m\n\u001b[0;32m    133\u001b[0m \u001b[38;5;28;01mexcept\u001b[39;00m \u001b[38;5;167;01mImportError\u001b[39;00m:\n",
      "File \u001b[1;32mc:\\Users\\Aditya Mithar\\AppData\\Local\\Programs\\Python\\Python312\\Lib\\importlib\\__init__.py:90\u001b[0m, in \u001b[0;36mimport_module\u001b[1;34m(name, package)\u001b[0m\n\u001b[0;32m     89\u001b[0m         level \u001b[38;5;241m+\u001b[39m\u001b[38;5;241m=\u001b[39m \u001b[38;5;241m1\u001b[39m\n\u001b[1;32m---> 90\u001b[0m \u001b[38;5;28;01mreturn\u001b[39;00m \u001b[43m_bootstrap\u001b[49m\u001b[38;5;241;43m.\u001b[39;49m\u001b[43m_gcd_import\u001b[49m\u001b[43m(\u001b[49m\u001b[43mname\u001b[49m\u001b[43m[\u001b[49m\u001b[43mlevel\u001b[49m\u001b[43m:\u001b[49m\u001b[43m]\u001b[49m\u001b[43m,\u001b[49m\u001b[43m \u001b[49m\u001b[43mpackage\u001b[49m\u001b[43m,\u001b[49m\u001b[43m \u001b[49m\u001b[43mlevel\u001b[49m\u001b[43m)\u001b[49m\n",
      "File \u001b[1;32m<frozen importlib._bootstrap>:1381\u001b[0m, in \u001b[0;36m_gcd_import\u001b[1;34m(name, package, level)\u001b[0m\n",
      "File \u001b[1;32m<frozen importlib._bootstrap>:1354\u001b[0m, in \u001b[0;36m_find_and_load\u001b[1;34m(name, import_)\u001b[0m\n",
      "File \u001b[1;32m<frozen importlib._bootstrap>:1318\u001b[0m, in \u001b[0;36m_find_and_load_unlocked\u001b[1;34m(name, import_)\u001b[0m\n",
      "\u001b[1;31mModuleNotFoundError\u001b[0m: No module named 'openpyxl'",
      "\nDuring handling of the above exception, another exception occurred:\n",
      "\u001b[1;31mImportError\u001b[0m                               Traceback (most recent call last)",
      "Cell \u001b[1;32mIn[3], line 1\u001b[0m\n\u001b[1;32m----> 1\u001b[0m \u001b[43mpd\u001b[49m\u001b[38;5;241;43m.\u001b[39;49m\u001b[43mread_excel\u001b[49m\u001b[43m(\u001b[49m\u001b[38;5;124;43m'\u001b[39;49m\u001b[38;5;124;43mdata.xlsx\u001b[39;49m\u001b[38;5;124;43m'\u001b[39;49m\u001b[43m)\u001b[49m\n",
      "File \u001b[1;32mc:\\Users\\Aditya Mithar\\AppData\\Local\\Programs\\Python\\Python312\\Lib\\site-packages\\pandas\\io\\excel\\_base.py:504\u001b[0m, in \u001b[0;36mread_excel\u001b[1;34m(io, sheet_name, header, names, index_col, usecols, dtype, engine, converters, true_values, false_values, skiprows, nrows, na_values, keep_default_na, na_filter, verbose, parse_dates, date_parser, date_format, thousands, decimal, comment, skipfooter, storage_options, dtype_backend, engine_kwargs)\u001b[0m\n\u001b[0;32m    502\u001b[0m \u001b[38;5;28;01mif\u001b[39;00m \u001b[38;5;129;01mnot\u001b[39;00m \u001b[38;5;28misinstance\u001b[39m(io, ExcelFile):\n\u001b[0;32m    503\u001b[0m     should_close \u001b[38;5;241m=\u001b[39m \u001b[38;5;28;01mTrue\u001b[39;00m\n\u001b[1;32m--> 504\u001b[0m     io \u001b[38;5;241m=\u001b[39m \u001b[43mExcelFile\u001b[49m\u001b[43m(\u001b[49m\n\u001b[0;32m    505\u001b[0m \u001b[43m        \u001b[49m\u001b[43mio\u001b[49m\u001b[43m,\u001b[49m\n\u001b[0;32m    506\u001b[0m \u001b[43m        \u001b[49m\u001b[43mstorage_options\u001b[49m\u001b[38;5;241;43m=\u001b[39;49m\u001b[43mstorage_options\u001b[49m\u001b[43m,\u001b[49m\n\u001b[0;32m    507\u001b[0m \u001b[43m        \u001b[49m\u001b[43mengine\u001b[49m\u001b[38;5;241;43m=\u001b[39;49m\u001b[43mengine\u001b[49m\u001b[43m,\u001b[49m\n\u001b[0;32m    508\u001b[0m \u001b[43m        \u001b[49m\u001b[43mengine_kwargs\u001b[49m\u001b[38;5;241;43m=\u001b[39;49m\u001b[43mengine_kwargs\u001b[49m\u001b[43m,\u001b[49m\n\u001b[0;32m    509\u001b[0m \u001b[43m    \u001b[49m\u001b[43m)\u001b[49m\n\u001b[0;32m    510\u001b[0m \u001b[38;5;28;01melif\u001b[39;00m engine \u001b[38;5;129;01mand\u001b[39;00m engine \u001b[38;5;241m!=\u001b[39m io\u001b[38;5;241m.\u001b[39mengine:\n\u001b[0;32m    511\u001b[0m     \u001b[38;5;28;01mraise\u001b[39;00m \u001b[38;5;167;01mValueError\u001b[39;00m(\n\u001b[0;32m    512\u001b[0m         \u001b[38;5;124m\"\u001b[39m\u001b[38;5;124mEngine should not be specified when passing \u001b[39m\u001b[38;5;124m\"\u001b[39m\n\u001b[0;32m    513\u001b[0m         \u001b[38;5;124m\"\u001b[39m\u001b[38;5;124man ExcelFile - ExcelFile already has the engine set\u001b[39m\u001b[38;5;124m\"\u001b[39m\n\u001b[0;32m    514\u001b[0m     )\n",
      "File \u001b[1;32mc:\\Users\\Aditya Mithar\\AppData\\Local\\Programs\\Python\\Python312\\Lib\\site-packages\\pandas\\io\\excel\\_base.py:1580\u001b[0m, in \u001b[0;36mExcelFile.__init__\u001b[1;34m(self, path_or_buffer, engine, storage_options, engine_kwargs)\u001b[0m\n\u001b[0;32m   1577\u001b[0m \u001b[38;5;28mself\u001b[39m\u001b[38;5;241m.\u001b[39mengine \u001b[38;5;241m=\u001b[39m engine\n\u001b[0;32m   1578\u001b[0m \u001b[38;5;28mself\u001b[39m\u001b[38;5;241m.\u001b[39mstorage_options \u001b[38;5;241m=\u001b[39m storage_options\n\u001b[1;32m-> 1580\u001b[0m \u001b[38;5;28mself\u001b[39m\u001b[38;5;241m.\u001b[39m_reader \u001b[38;5;241m=\u001b[39m \u001b[38;5;28;43mself\u001b[39;49m\u001b[38;5;241;43m.\u001b[39;49m\u001b[43m_engines\u001b[49m\u001b[43m[\u001b[49m\u001b[43mengine\u001b[49m\u001b[43m]\u001b[49m\u001b[43m(\u001b[49m\n\u001b[0;32m   1581\u001b[0m \u001b[43m    \u001b[49m\u001b[38;5;28;43mself\u001b[39;49m\u001b[38;5;241;43m.\u001b[39;49m\u001b[43m_io\u001b[49m\u001b[43m,\u001b[49m\n\u001b[0;32m   1582\u001b[0m \u001b[43m    \u001b[49m\u001b[43mstorage_options\u001b[49m\u001b[38;5;241;43m=\u001b[39;49m\u001b[43mstorage_options\u001b[49m\u001b[43m,\u001b[49m\n\u001b[0;32m   1583\u001b[0m \u001b[43m    \u001b[49m\u001b[43mengine_kwargs\u001b[49m\u001b[38;5;241;43m=\u001b[39;49m\u001b[43mengine_kwargs\u001b[49m\u001b[43m,\u001b[49m\n\u001b[0;32m   1584\u001b[0m \u001b[43m\u001b[49m\u001b[43m)\u001b[49m\n",
      "File \u001b[1;32mc:\\Users\\Aditya Mithar\\AppData\\Local\\Programs\\Python\\Python312\\Lib\\site-packages\\pandas\\io\\excel\\_openpyxl.py:552\u001b[0m, in \u001b[0;36mOpenpyxlReader.__init__\u001b[1;34m(self, filepath_or_buffer, storage_options, engine_kwargs)\u001b[0m\n\u001b[0;32m    534\u001b[0m \u001b[38;5;129m@doc\u001b[39m(storage_options\u001b[38;5;241m=\u001b[39m_shared_docs[\u001b[38;5;124m\"\u001b[39m\u001b[38;5;124mstorage_options\u001b[39m\u001b[38;5;124m\"\u001b[39m])\n\u001b[0;32m    535\u001b[0m \u001b[38;5;28;01mdef\u001b[39;00m \u001b[38;5;21m__init__\u001b[39m(\n\u001b[0;32m    536\u001b[0m     \u001b[38;5;28mself\u001b[39m,\n\u001b[1;32m   (...)\u001b[0m\n\u001b[0;32m    539\u001b[0m     engine_kwargs: \u001b[38;5;28mdict\u001b[39m \u001b[38;5;241m|\u001b[39m \u001b[38;5;28;01mNone\u001b[39;00m \u001b[38;5;241m=\u001b[39m \u001b[38;5;28;01mNone\u001b[39;00m,\n\u001b[0;32m    540\u001b[0m ) \u001b[38;5;241m-\u001b[39m\u001b[38;5;241m>\u001b[39m \u001b[38;5;28;01mNone\u001b[39;00m:\n\u001b[0;32m    541\u001b[0m \u001b[38;5;250m    \u001b[39m\u001b[38;5;124;03m\"\"\"\u001b[39;00m\n\u001b[0;32m    542\u001b[0m \u001b[38;5;124;03m    Reader using openpyxl engine.\u001b[39;00m\n\u001b[0;32m    543\u001b[0m \n\u001b[1;32m   (...)\u001b[0m\n\u001b[0;32m    550\u001b[0m \u001b[38;5;124;03m        Arbitrary keyword arguments passed to excel engine.\u001b[39;00m\n\u001b[0;32m    551\u001b[0m \u001b[38;5;124;03m    \"\"\"\u001b[39;00m\n\u001b[1;32m--> 552\u001b[0m     \u001b[43mimport_optional_dependency\u001b[49m\u001b[43m(\u001b[49m\u001b[38;5;124;43m\"\u001b[39;49m\u001b[38;5;124;43mopenpyxl\u001b[39;49m\u001b[38;5;124;43m\"\u001b[39;49m\u001b[43m)\u001b[49m\n\u001b[0;32m    553\u001b[0m     \u001b[38;5;28msuper\u001b[39m()\u001b[38;5;241m.\u001b[39m\u001b[38;5;21m__init__\u001b[39m(\n\u001b[0;32m    554\u001b[0m         filepath_or_buffer,\n\u001b[0;32m    555\u001b[0m         storage_options\u001b[38;5;241m=\u001b[39mstorage_options,\n\u001b[0;32m    556\u001b[0m         engine_kwargs\u001b[38;5;241m=\u001b[39mengine_kwargs,\n\u001b[0;32m    557\u001b[0m     )\n",
      "File \u001b[1;32mc:\\Users\\Aditya Mithar\\AppData\\Local\\Programs\\Python\\Python312\\Lib\\site-packages\\pandas\\compat\\_optional.py:135\u001b[0m, in \u001b[0;36mimport_optional_dependency\u001b[1;34m(name, extra, errors, min_version)\u001b[0m\n\u001b[0;32m    133\u001b[0m \u001b[38;5;28;01mexcept\u001b[39;00m \u001b[38;5;167;01mImportError\u001b[39;00m:\n\u001b[0;32m    134\u001b[0m     \u001b[38;5;28;01mif\u001b[39;00m errors \u001b[38;5;241m==\u001b[39m \u001b[38;5;124m\"\u001b[39m\u001b[38;5;124mraise\u001b[39m\u001b[38;5;124m\"\u001b[39m:\n\u001b[1;32m--> 135\u001b[0m         \u001b[38;5;28;01mraise\u001b[39;00m \u001b[38;5;167;01mImportError\u001b[39;00m(msg)\n\u001b[0;32m    136\u001b[0m     \u001b[38;5;28;01mreturn\u001b[39;00m \u001b[38;5;28;01mNone\u001b[39;00m\n\u001b[0;32m    138\u001b[0m \u001b[38;5;66;03m# Handle submodules: if we have submodule, grab parent module from sys.modules\u001b[39;00m\n",
      "\u001b[1;31mImportError\u001b[0m: Missing optional dependency 'openpyxl'.  Use pip or conda to install openpyxl."
     ]
    }
   ],
   "source": [
    "pd.read_excel('data.xlsx')"
   ]
  },
  {
   "cell_type": "code",
   "execution_count": 4,
   "metadata": {},
   "outputs": [
    {
     "name": "stdout",
     "output_type": "stream",
     "text": [
      "Collecting openpyxl\n",
      "  Downloading openpyxl-3.1.2-py2.py3-none-any.whl (249 kB)\n",
      "     ---------------------------------------- 0.0/250.0 kB ? eta -:--:--\n",
      "     ------------------ ------------------- 122.9/250.0 kB 7.5 MB/s eta 0:00:01\n",
      "     ------------------ ------------------- 122.9/250.0 kB 7.5 MB/s eta 0:00:01\n",
      "     ----------------------------- -------- 194.6/250.0 kB 1.3 MB/s eta 0:00:01\n",
      "     ----------------------------- -------- 194.6/250.0 kB 1.3 MB/s eta 0:00:01\n",
      "     -------------------------------------  245.8/250.0 kB 1.0 MB/s eta 0:00:01\n",
      "     -------------------------------------  245.8/250.0 kB 1.0 MB/s eta 0:00:01\n",
      "     -------------------------------------  245.8/250.0 kB 1.0 MB/s eta 0:00:01\n",
      "     -------------------------------------  245.8/250.0 kB 1.0 MB/s eta 0:00:01\n",
      "     -------------------------------------  245.8/250.0 kB 1.0 MB/s eta 0:00:01\n",
      "     -------------------------------------  245.8/250.0 kB 1.0 MB/s eta 0:00:01\n",
      "     -------------------------------------  245.8/250.0 kB 1.0 MB/s eta 0:00:01\n",
      "     -------------------------------------  245.8/250.0 kB 1.0 MB/s eta 0:00:01\n",
      "     -------------------------------------  245.8/250.0 kB 1.0 MB/s eta 0:00:01\n",
      "     -------------------------------------  245.8/250.0 kB 1.0 MB/s eta 0:00:01\n",
      "     -------------------------------------  245.8/250.0 kB 1.0 MB/s eta 0:00:01\n",
      "     -------------------------------------  245.8/250.0 kB 1.0 MB/s eta 0:00:01\n",
      "     -------------------------------------  245.8/250.0 kB 1.0 MB/s eta 0:00:01\n",
      "     -------------------------------------  245.8/250.0 kB 1.0 MB/s eta 0:00:01\n",
      "     -------------------------------------  245.8/250.0 kB 1.0 MB/s eta 0:00:01\n",
      "     -------------------------------------  245.8/250.0 kB 1.0 MB/s eta 0:00:01\n",
      "     -------------------------------------  245.8/250.0 kB 1.0 MB/s eta 0:00:01\n",
      "     -------------------------------------  245.8/250.0 kB 1.0 MB/s eta 0:00:01\n",
      "     -------------------------------------  245.8/250.0 kB 1.0 MB/s eta 0:00:01\n",
      "     -------------------------------------  245.8/250.0 kB 1.0 MB/s eta 0:00:01\n",
      "     -------------------------------------  245.8/250.0 kB 1.0 MB/s eta 0:00:01\n",
      "     -------------------------------------  245.8/250.0 kB 1.0 MB/s eta 0:00:01\n",
      "     -------------------------------------  245.8/250.0 kB 1.0 MB/s eta 0:00:01\n",
      "     -------------------------------------  245.8/250.0 kB 1.0 MB/s eta 0:00:01\n",
      "     -------------------------------------  245.8/250.0 kB 1.0 MB/s eta 0:00:01\n",
      "     -------------------------------------  245.8/250.0 kB 1.0 MB/s eta 0:00:01\n",
      "     -------------------------------------  245.8/250.0 kB 1.0 MB/s eta 0:00:01\n",
      "     -------------------------------------  245.8/250.0 kB 1.0 MB/s eta 0:00:01\n",
      "     -------------------------------------  245.8/250.0 kB 1.0 MB/s eta 0:00:01\n",
      "     -------------------------------------  245.8/250.0 kB 1.0 MB/s eta 0:00:01\n",
      "     -------------------------------------  245.8/250.0 kB 1.0 MB/s eta 0:00:01\n",
      "     -------------------------------------  245.8/250.0 kB 1.0 MB/s eta 0:00:01\n",
      "     -------------------------------------  245.8/250.0 kB 1.0 MB/s eta 0:00:01\n",
      "     -------------------------------------  245.8/250.0 kB 1.0 MB/s eta 0:00:01\n",
      "     -------------------------------------  245.8/250.0 kB 1.0 MB/s eta 0:00:01\n",
      "     -------------------------------------  245.8/250.0 kB 1.0 MB/s eta 0:00:01\n",
      "     -------------------------------------  245.8/250.0 kB 1.0 MB/s eta 0:00:01\n",
      "     -------------------------------------  245.8/250.0 kB 1.0 MB/s eta 0:00:01\n",
      "     -------------------------------------  245.8/250.0 kB 1.0 MB/s eta 0:00:01\n",
      "     -------------------------------------  245.8/250.0 kB 1.0 MB/s eta 0:00:01\n",
      "     -------------------------------------  245.8/250.0 kB 1.0 MB/s eta 0:00:01\n",
      "     -------------------------------------  245.8/250.0 kB 1.0 MB/s eta 0:00:01\n",
      "     -------------------------------------  245.8/250.0 kB 1.0 MB/s eta 0:00:01\n",
      "     -------------------------------------  245.8/250.0 kB 1.0 MB/s eta 0:00:01\n",
      "     -------------------------------------  245.8/250.0 kB 1.0 MB/s eta 0:00:01\n",
      "     -------------------------------------  245.8/250.0 kB 1.0 MB/s eta 0:00:01\n",
      "     -------------------------------------  245.8/250.0 kB 1.0 MB/s eta 0:00:01\n",
      "     -------------------------------------  245.8/250.0 kB 1.0 MB/s eta 0:00:01\n",
      "     -------------------------------------  245.8/250.0 kB 1.0 MB/s eta 0:00:01\n",
      "     -------------------------------------  245.8/250.0 kB 1.0 MB/s eta 0:00:01\n",
      "     -------------------------------------  245.8/250.0 kB 1.0 MB/s eta 0:00:01\n",
      "     -------------------------------------  245.8/250.0 kB 1.0 MB/s eta 0:00:01\n",
      "     -------------------------------------  245.8/250.0 kB 1.0 MB/s eta 0:00:01\n",
      "     -------------------------------------  245.8/250.0 kB 1.0 MB/s eta 0:00:01\n",
      "     -------------------------------------  245.8/250.0 kB 1.0 MB/s eta 0:00:01\n",
      "     -------------------------------------  245.8/250.0 kB 1.0 MB/s eta 0:00:01\n",
      "     -------------------------------------  245.8/250.0 kB 1.0 MB/s eta 0:00:01\n",
      "     -------------------------------------  245.8/250.0 kB 1.0 MB/s eta 0:00:01\n",
      "     -------------------------------------  245.8/250.0 kB 1.0 MB/s eta 0:00:01\n",
      "     -------------------------------------  245.8/250.0 kB 1.0 MB/s eta 0:00:01\n",
      "     -------------------------------------  245.8/250.0 kB 1.0 MB/s eta 0:00:01\n",
      "     -------------------------------------  245.8/250.0 kB 1.0 MB/s eta 0:00:01\n",
      "     -------------------------------------  245.8/250.0 kB 1.0 MB/s eta 0:00:01\n",
      "     -------------------------------------  245.8/250.0 kB 1.0 MB/s eta 0:00:01\n",
      "     -------------------------------------  245.8/250.0 kB 1.0 MB/s eta 0:00:01\n",
      "     -------------------------------------  245.8/250.0 kB 1.0 MB/s eta 0:00:01\n",
      "     -------------------------------------  245.8/250.0 kB 1.0 MB/s eta 0:00:01\n",
      "     -------------------------------------  245.8/250.0 kB 1.0 MB/s eta 0:00:01\n",
      "     -------------------------------------  245.8/250.0 kB 1.0 MB/s eta 0:00:01\n",
      "     -------------------------------------  245.8/250.0 kB 1.0 MB/s eta 0:00:01\n",
      "     -------------------------------------  245.8/250.0 kB 1.0 MB/s eta 0:00:01\n",
      "     -------------------------------------  245.8/250.0 kB 1.0 MB/s eta 0:00:01\n",
      "     -------------------------------------  245.8/250.0 kB 1.0 MB/s eta 0:00:01\n",
      "     -------------------------------------  245.8/250.0 kB 1.0 MB/s eta 0:00:01\n",
      "     -------------------------------------  245.8/250.0 kB 1.0 MB/s eta 0:00:01\n",
      "     -------------------------------------  245.8/250.0 kB 1.0 MB/s eta 0:00:01\n",
      "     -------------------------------------  245.8/250.0 kB 1.0 MB/s eta 0:00:01\n",
      "     -------------------------------------  245.8/250.0 kB 1.0 MB/s eta 0:00:01\n",
      "     -------------------------------------  245.8/250.0 kB 1.0 MB/s eta 0:00:01\n",
      "     -------------------------------------  245.8/250.0 kB 1.0 MB/s eta 0:00:01\n",
      "     -------------------------------------  245.8/250.0 kB 1.0 MB/s eta 0:00:01\n",
      "     -------------------------------------  245.8/250.0 kB 1.0 MB/s eta 0:00:01\n",
      "     -------------------------------------  245.8/250.0 kB 1.0 MB/s eta 0:00:01\n",
      "     -------------------------------------  245.8/250.0 kB 1.0 MB/s eta 0:00:01\n",
      "     -------------------------------------  245.8/250.0 kB 1.0 MB/s eta 0:00:01\n",
      "     -------------------------------------  245.8/250.0 kB 1.0 MB/s eta 0:00:01\n",
      "     -------------------------------------  245.8/250.0 kB 1.0 MB/s eta 0:00:01\n",
      "     -------------------------------------  245.8/250.0 kB 1.0 MB/s eta 0:00:01\n",
      "     -------------------------------------  245.8/250.0 kB 1.0 MB/s eta 0:00:01\n",
      "     -------------------------------------  245.8/250.0 kB 1.0 MB/s eta 0:00:01\n",
      "     -------------------------------------  245.8/250.0 kB 1.0 MB/s eta 0:00:01\n",
      "     -------------------------------------  245.8/250.0 kB 1.0 MB/s eta 0:00:01\n",
      "     -------------------------------------  245.8/250.0 kB 1.0 MB/s eta 0:00:01\n",
      "     -------------------------------------  245.8/250.0 kB 1.0 MB/s eta 0:00:01\n",
      "     -------------------------------------  245.8/250.0 kB 1.0 MB/s eta 0:00:01\n",
      "     -------------------------------------  245.8/250.0 kB 1.0 MB/s eta 0:00:01\n",
      "     -------------------------------------  245.8/250.0 kB 1.0 MB/s eta 0:00:01\n",
      "     -------------------------------------  245.8/250.0 kB 1.0 MB/s eta 0:00:01\n",
      "     -------------------------------------  245.8/250.0 kB 1.0 MB/s eta 0:00:01\n",
      "     -------------------------------------  245.8/250.0 kB 1.0 MB/s eta 0:00:01\n",
      "     -------------------------------------  245.8/250.0 kB 1.0 MB/s eta 0:00:01\n",
      "     -------------------------------------  245.8/250.0 kB 1.0 MB/s eta 0:00:01\n",
      "     -------------------------------------  245.8/250.0 kB 1.0 MB/s eta 0:00:01\n",
      "     -------------------------------------  245.8/250.0 kB 1.0 MB/s eta 0:00:01\n",
      "     -------------------------------------  245.8/250.0 kB 1.0 MB/s eta 0:00:01\n",
      "     -------------------------------------  245.8/250.0 kB 1.0 MB/s eta 0:00:01\n",
      "     -------------------------------------  245.8/250.0 kB 1.0 MB/s eta 0:00:01\n",
      "     -------------------------------------  245.8/250.0 kB 1.0 MB/s eta 0:00:01\n",
      "     -------------------------------------  245.8/250.0 kB 1.0 MB/s eta 0:00:01\n",
      "     -------------------------------------  245.8/250.0 kB 1.0 MB/s eta 0:00:01\n",
      "     -------------------------------------  245.8/250.0 kB 1.0 MB/s eta 0:00:01\n",
      "     -------------------------------------  245.8/250.0 kB 1.0 MB/s eta 0:00:01\n",
      "     -------------------------------------  245.8/250.0 kB 1.0 MB/s eta 0:00:01\n",
      "     -------------------------------------  245.8/250.0 kB 1.0 MB/s eta 0:00:01\n",
      "     -------------------------------------  245.8/250.0 kB 1.0 MB/s eta 0:00:01\n",
      "     -------------------------------------  245.8/250.0 kB 1.0 MB/s eta 0:00:01\n",
      "     -------------------------------------  245.8/250.0 kB 1.0 MB/s eta 0:00:01\n",
      "     -------------------------------------  245.8/250.0 kB 1.0 MB/s eta 0:00:01\n",
      "     -------------------------------------  245.8/250.0 kB 1.0 MB/s eta 0:00:01\n",
      "     -------------------------------------  245.8/250.0 kB 1.0 MB/s eta 0:00:01\n",
      "     -------------------------------------  245.8/250.0 kB 1.0 MB/s eta 0:00:01\n",
      "     -------------------------------------  245.8/250.0 kB 1.0 MB/s eta 0:00:01\n",
      "     -------------------------------------  245.8/250.0 kB 1.0 MB/s eta 0:00:01\n",
      "     -------------------------------------  245.8/250.0 kB 1.0 MB/s eta 0:00:01\n",
      "     -------------------------------------  245.8/250.0 kB 1.0 MB/s eta 0:00:01\n",
      "     -------------------------------------  245.8/250.0 kB 1.0 MB/s eta 0:00:01\n",
      "     -------------------------------------  245.8/250.0 kB 1.0 MB/s eta 0:00:01\n",
      "     -------------------------------------  245.8/250.0 kB 1.0 MB/s eta 0:00:01\n",
      "     -------------------------------------  245.8/250.0 kB 1.0 MB/s eta 0:00:01\n",
      "     -------------------------------------  245.8/250.0 kB 1.0 MB/s eta 0:00:01\n",
      "     -------------------------------------  245.8/250.0 kB 1.0 MB/s eta 0:00:01\n",
      "     -------------------------------------  245.8/250.0 kB 1.0 MB/s eta 0:00:01\n",
      "     -------------------------------------  245.8/250.0 kB 1.0 MB/s eta 0:00:01\n",
      "     -------------------------------------  245.8/250.0 kB 1.0 MB/s eta 0:00:01\n",
      "     -------------------------------------  245.8/250.0 kB 1.0 MB/s eta 0:00:01\n",
      "     -------------------------------------  245.8/250.0 kB 1.0 MB/s eta 0:00:01\n",
      "     -------------------------------------  245.8/250.0 kB 1.0 MB/s eta 0:00:01\n",
      "     -------------------------------------  245.8/250.0 kB 1.0 MB/s eta 0:00:01\n",
      "     -------------------------------------  245.8/250.0 kB 1.0 MB/s eta 0:00:01\n",
      "     -------------------------------------  245.8/250.0 kB 1.0 MB/s eta 0:00:01\n",
      "     -------------------------------------  245.8/250.0 kB 1.0 MB/s eta 0:00:01\n",
      "     -------------------------------------  245.8/250.0 kB 1.0 MB/s eta 0:00:01\n",
      "     -------------------------------------  245.8/250.0 kB 1.0 MB/s eta 0:00:01\n",
      "     -------------------------------------  245.8/250.0 kB 1.0 MB/s eta 0:00:01\n",
      "     -------------------------------------  245.8/250.0 kB 1.0 MB/s eta 0:00:01\n",
      "     -------------------------------------  245.8/250.0 kB 1.0 MB/s eta 0:00:01\n",
      "     -------------------------------------  245.8/250.0 kB 1.0 MB/s eta 0:00:01\n",
      "     -------------------------------------  245.8/250.0 kB 1.0 MB/s eta 0:00:01\n",
      "     -------------------------------------  245.8/250.0 kB 1.0 MB/s eta 0:00:01\n",
      "     -------------------------------------  245.8/250.0 kB 1.0 MB/s eta 0:00:01\n",
      "     -------------------------------------  245.8/250.0 kB 1.0 MB/s eta 0:00:01\n",
      "     -------------------------------------  245.8/250.0 kB 1.0 MB/s eta 0:00:01\n",
      "     -------------------------------------  245.8/250.0 kB 1.0 MB/s eta 0:00:01\n",
      "     -------------------------------------  245.8/250.0 kB 1.0 MB/s eta 0:00:01\n",
      "     -------------------------------------  245.8/250.0 kB 1.0 MB/s eta 0:00:01\n",
      "     -------------------------------------  245.8/250.0 kB 1.0 MB/s eta 0:00:01\n",
      "     -------------------------------------  245.8/250.0 kB 1.0 MB/s eta 0:00:01\n",
      "     -------------------------------------  245.8/250.0 kB 1.0 MB/s eta 0:00:01\n",
      "     -------------------------------------  245.8/250.0 kB 1.0 MB/s eta 0:00:01\n",
      "     -------------------------------------  245.8/250.0 kB 1.0 MB/s eta 0:00:01\n",
      "     -------------------------------------  245.8/250.0 kB 1.0 MB/s eta 0:00:01\n",
      "     -------------------------------------  245.8/250.0 kB 1.0 MB/s eta 0:00:01\n",
      "     -------------------------------------  245.8/250.0 kB 1.0 MB/s eta 0:00:01\n",
      "     -------------------------------------  245.8/250.0 kB 1.0 MB/s eta 0:00:01\n",
      "     -------------------------------------  245.8/250.0 kB 1.0 MB/s eta 0:00:01\n",
      "     -------------------------------------  245.8/250.0 kB 1.0 MB/s eta 0:00:01\n",
      "     -------------------------------------  245.8/250.0 kB 1.0 MB/s eta 0:00:01\n",
      "     -------------------------------------  245.8/250.0 kB 1.0 MB/s eta 0:00:01\n",
      "     -------------------------------------  245.8/250.0 kB 1.0 MB/s eta 0:00:01\n",
      "     -------------------------------------  245.8/250.0 kB 1.0 MB/s eta 0:00:01\n",
      "     -------------------------------------  245.8/250.0 kB 1.0 MB/s eta 0:00:01\n",
      "     -------------------------------------  245.8/250.0 kB 1.0 MB/s eta 0:00:01\n",
      "     -------------------------------------  245.8/250.0 kB 1.0 MB/s eta 0:00:01\n",
      "     -------------------------------------  245.8/250.0 kB 1.0 MB/s eta 0:00:01\n",
      "     -------------------------------------  245.8/250.0 kB 1.0 MB/s eta 0:00:01\n",
      "     -------------------------------------  245.8/250.0 kB 1.0 MB/s eta 0:00:01\n",
      "     -------------------------------------  245.8/250.0 kB 1.0 MB/s eta 0:00:01\n",
      "     -------------------------------------  245.8/250.0 kB 1.0 MB/s eta 0:00:01\n",
      "     -------------------------------------  245.8/250.0 kB 1.0 MB/s eta 0:00:01\n",
      "     -------------------------------------  245.8/250.0 kB 1.0 MB/s eta 0:00:01\n",
      "     -------------------------------------  245.8/250.0 kB 1.0 MB/s eta 0:00:01\n",
      "     -------------------------------------  245.8/250.0 kB 1.0 MB/s eta 0:00:01\n",
      "     -------------------------------------  245.8/250.0 kB 1.0 MB/s eta 0:00:01\n",
      "     -------------------------------------  245.8/250.0 kB 1.0 MB/s eta 0:00:01\n",
      "     -------------------------------------  245.8/250.0 kB 1.0 MB/s eta 0:00:01\n",
      "     ------------------------------------- 250.0/250.0 kB 25.2 kB/s eta 0:00:00\n",
      "Collecting et-xmlfile (from openpyxl)\n",
      "  Downloading et_xmlfile-1.1.0-py3-none-any.whl (4.7 kB)\n",
      "Installing collected packages: et-xmlfile, openpyxl\n",
      "Successfully installed et-xmlfile-1.1.0 openpyxl-3.1.2\n",
      "Note: you may need to restart the kernel to use updated packages.\n"
     ]
    }
   ],
   "source": [
    "pip install openpyxl"
   ]
  },
  {
   "cell_type": "code",
   "execution_count": 5,
   "metadata": {},
   "outputs": [
    {
     "data": {
      "text/html": [
       "<div>\n",
       "<style scoped>\n",
       "    .dataframe tbody tr th:only-of-type {\n",
       "        vertical-align: middle;\n",
       "    }\n",
       "\n",
       "    .dataframe tbody tr th {\n",
       "        vertical-align: top;\n",
       "    }\n",
       "\n",
       "    .dataframe thead th {\n",
       "        text-align: right;\n",
       "    }\n",
       "</style>\n",
       "<table border=\"1\" class=\"dataframe\">\n",
       "  <thead>\n",
       "    <tr style=\"text-align: right;\">\n",
       "      <th></th>\n",
       "      <th>Unnamed: 0</th>\n",
       "      <th>white</th>\n",
       "      <th>red</th>\n",
       "      <th>green</th>\n",
       "      <th>black</th>\n",
       "    </tr>\n",
       "  </thead>\n",
       "  <tbody>\n",
       "    <tr>\n",
       "      <th>0</th>\n",
       "      <td>a</td>\n",
       "      <td>12</td>\n",
       "      <td>14</td>\n",
       "      <td>18</td>\n",
       "      <td>17</td>\n",
       "    </tr>\n",
       "    <tr>\n",
       "      <th>1</th>\n",
       "      <td>b</td>\n",
       "      <td>11</td>\n",
       "      <td>26</td>\n",
       "      <td>65</td>\n",
       "      <td>35</td>\n",
       "    </tr>\n",
       "    <tr>\n",
       "      <th>2</th>\n",
       "      <td>c</td>\n",
       "      <td>23</td>\n",
       "      <td>29</td>\n",
       "      <td>46</td>\n",
       "      <td>78</td>\n",
       "    </tr>\n",
       "  </tbody>\n",
       "</table>\n",
       "</div>"
      ],
      "text/plain": [
       "  Unnamed: 0  white   red  green   black\n",
       "0          a      12   14      18     17\n",
       "1          b      11   26      65     35\n",
       "2          c      23   29      46     78"
      ]
     },
     "execution_count": 5,
     "metadata": {},
     "output_type": "execute_result"
    }
   ],
   "source": [
    "pd.read_excel('data.xlsx')"
   ]
  },
  {
   "cell_type": "code",
   "execution_count": 7,
   "metadata": {},
   "outputs": [
    {
     "data": {
      "text/html": [
       "<div>\n",
       "<style scoped>\n",
       "    .dataframe tbody tr th:only-of-type {\n",
       "        vertical-align: middle;\n",
       "    }\n",
       "\n",
       "    .dataframe tbody tr th {\n",
       "        vertical-align: top;\n",
       "    }\n",
       "\n",
       "    .dataframe thead th {\n",
       "        text-align: right;\n",
       "    }\n",
       "</style>\n",
       "<table border=\"1\" class=\"dataframe\">\n",
       "  <thead>\n",
       "    <tr style=\"text-align: right;\">\n",
       "      <th></th>\n",
       "      <th>Unnamed: 0</th>\n",
       "      <th>puple</th>\n",
       "      <th>orange</th>\n",
       "      <th>yellow</th>\n",
       "      <th>cyan</th>\n",
       "    </tr>\n",
       "  </thead>\n",
       "  <tbody>\n",
       "    <tr>\n",
       "      <th>0</th>\n",
       "      <td>a</td>\n",
       "      <td>13</td>\n",
       "      <td>35</td>\n",
       "      <td>54</td>\n",
       "      <td>21</td>\n",
       "    </tr>\n",
       "    <tr>\n",
       "      <th>1</th>\n",
       "      <td>b</td>\n",
       "      <td>19</td>\n",
       "      <td>48</td>\n",
       "      <td>17</td>\n",
       "      <td>89</td>\n",
       "    </tr>\n",
       "    <tr>\n",
       "      <th>2</th>\n",
       "      <td>c</td>\n",
       "      <td>38</td>\n",
       "      <td>67</td>\n",
       "      <td>90</td>\n",
       "      <td>43</td>\n",
       "    </tr>\n",
       "  </tbody>\n",
       "</table>\n",
       "</div>"
      ],
      "text/plain": [
       "  Unnamed: 0  puple   orange  yellow  cyan\n",
       "0          a      13      35      54    21\n",
       "1          b      19      48      17    89\n",
       "2          c      38      67      90    43"
      ]
     },
     "execution_count": 7,
     "metadata": {},
     "output_type": "execute_result"
    }
   ],
   "source": [
    "pd.read_excel('data.xlsx', 'Sheet2')"
   ]
  },
  {
   "cell_type": "code",
   "execution_count": 8,
   "metadata": {},
   "outputs": [
    {
     "data": {
      "text/html": [
       "<div>\n",
       "<style scoped>\n",
       "    .dataframe tbody tr th:only-of-type {\n",
       "        vertical-align: middle;\n",
       "    }\n",
       "\n",
       "    .dataframe tbody tr th {\n",
       "        vertical-align: top;\n",
       "    }\n",
       "\n",
       "    .dataframe thead th {\n",
       "        text-align: right;\n",
       "    }\n",
       "</style>\n",
       "<table border=\"1\" class=\"dataframe\">\n",
       "  <thead>\n",
       "    <tr style=\"text-align: right;\">\n",
       "      <th></th>\n",
       "      <th>Jan2015</th>\n",
       "      <th>Fab2015</th>\n",
       "      <th>Mar2015</th>\n",
       "      <th>Apr2005</th>\n",
       "    </tr>\n",
       "  </thead>\n",
       "  <tbody>\n",
       "    <tr>\n",
       "      <th>exp1</th>\n",
       "      <td>0.549206</td>\n",
       "      <td>0.962822</td>\n",
       "      <td>0.639678</td>\n",
       "      <td>0.302883</td>\n",
       "    </tr>\n",
       "    <tr>\n",
       "      <th>exp2</th>\n",
       "      <td>0.658581</td>\n",
       "      <td>0.684561</td>\n",
       "      <td>0.168770</td>\n",
       "      <td>0.860642</td>\n",
       "    </tr>\n",
       "    <tr>\n",
       "      <th>exp3</th>\n",
       "      <td>0.338958</td>\n",
       "      <td>0.251067</td>\n",
       "      <td>0.208825</td>\n",
       "      <td>0.870301</td>\n",
       "    </tr>\n",
       "    <tr>\n",
       "      <th>exp4</th>\n",
       "      <td>0.086081</td>\n",
       "      <td>0.317415</td>\n",
       "      <td>0.642654</td>\n",
       "      <td>0.761638</td>\n",
       "    </tr>\n",
       "  </tbody>\n",
       "</table>\n",
       "</div>"
      ],
      "text/plain": [
       "       Jan2015   Fab2015   Mar2015   Apr2005\n",
       "exp1  0.549206  0.962822  0.639678  0.302883\n",
       "exp2  0.658581  0.684561  0.168770  0.860642\n",
       "exp3  0.338958  0.251067  0.208825  0.870301\n",
       "exp4  0.086081  0.317415  0.642654  0.761638"
      ]
     },
     "execution_count": 8,
     "metadata": {},
     "output_type": "execute_result"
    }
   ],
   "source": [
    "frame = pd.DataFrame(np.random.random((4,4)), index = ['exp1','exp2','exp3','exp4'], columns = ['Jan2015','Fab2015','Mar2015','Apr2005'])\n",
    "frame"
   ]
  },
  {
   "cell_type": "code",
   "execution_count": 10,
   "metadata": {},
   "outputs": [],
   "source": [
    "frame.to_excel('data2.xlsx')"
   ]
  },
  {
   "cell_type": "code",
   "execution_count": 11,
   "metadata": {},
   "outputs": [
    {
     "data": {
      "text/html": [
       "<div>\n",
       "<style scoped>\n",
       "    .dataframe tbody tr th:only-of-type {\n",
       "        vertical-align: middle;\n",
       "    }\n",
       "\n",
       "    .dataframe tbody tr th {\n",
       "        vertical-align: top;\n",
       "    }\n",
       "\n",
       "    .dataframe thead th {\n",
       "        text-align: right;\n",
       "    }\n",
       "</style>\n",
       "<table border=\"1\" class=\"dataframe\">\n",
       "  <thead>\n",
       "    <tr style=\"text-align: right;\">\n",
       "      <th></th>\n",
       "      <th>Unnamed: 0</th>\n",
       "      <th>Jan2015</th>\n",
       "      <th>Fab2015</th>\n",
       "      <th>Mar2015</th>\n",
       "      <th>Apr2005</th>\n",
       "    </tr>\n",
       "  </thead>\n",
       "  <tbody>\n",
       "    <tr>\n",
       "      <th>0</th>\n",
       "      <td>exp1</td>\n",
       "      <td>0.549206</td>\n",
       "      <td>0.962822</td>\n",
       "      <td>0.639678</td>\n",
       "      <td>0.302883</td>\n",
       "    </tr>\n",
       "    <tr>\n",
       "      <th>1</th>\n",
       "      <td>exp2</td>\n",
       "      <td>0.658581</td>\n",
       "      <td>0.684561</td>\n",
       "      <td>0.168770</td>\n",
       "      <td>0.860642</td>\n",
       "    </tr>\n",
       "    <tr>\n",
       "      <th>2</th>\n",
       "      <td>exp3</td>\n",
       "      <td>0.338958</td>\n",
       "      <td>0.251067</td>\n",
       "      <td>0.208825</td>\n",
       "      <td>0.870301</td>\n",
       "    </tr>\n",
       "    <tr>\n",
       "      <th>3</th>\n",
       "      <td>exp4</td>\n",
       "      <td>0.086081</td>\n",
       "      <td>0.317415</td>\n",
       "      <td>0.642654</td>\n",
       "      <td>0.761638</td>\n",
       "    </tr>\n",
       "  </tbody>\n",
       "</table>\n",
       "</div>"
      ],
      "text/plain": [
       "  Unnamed: 0   Jan2015   Fab2015   Mar2015   Apr2005\n",
       "0       exp1  0.549206  0.962822  0.639678  0.302883\n",
       "1       exp2  0.658581  0.684561  0.168770  0.860642\n",
       "2       exp3  0.338958  0.251067  0.208825  0.870301\n",
       "3       exp4  0.086081  0.317415  0.642654  0.761638"
      ]
     },
     "execution_count": 11,
     "metadata": {},
     "output_type": "execute_result"
    }
   ],
   "source": [
    "pd.read_excel('data2.xlsx')"
   ]
  }
 ],
 "metadata": {
  "kernelspec": {
   "display_name": "Python 3",
   "language": "python",
   "name": "python3"
  },
  "language_info": {
   "codemirror_mode": {
    "name": "ipython",
    "version": 3
   },
   "file_extension": ".py",
   "mimetype": "text/x-python",
   "name": "python",
   "nbconvert_exporter": "python",
   "pygments_lexer": "ipython3",
   "version": "3.12.0"
  }
 },
 "nbformat": 4,
 "nbformat_minor": 2
}
