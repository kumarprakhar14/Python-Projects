{
 "cells": [
  {
   "cell_type": "markdown",
   "metadata": {},
   "source": [
    "# Pandas Library\n",
    "\n",
    "Pandas is an open source Python library for highly specialized data analysis. It is used to study and analyze data sets for statistical purposes of analysis and decision making.\n",
    "\n",
    "\n",
    "This library has been designed and developed primarily by Wes McKinney starting in 2008; later, in\n",
    "2012, Sien Chang, one of his colleagues, was added to the development. Together they set up one of the most\n",
    "used libraries in the Python community.\n",
    "\n",
    "\n",
    "Pandas arises from the need to have a specific library for analysis of the data which provides, in the\n",
    "simplest possible way, all the instruments for the processing of data, data extraction, and data manipulation.\n",
    "This Python package is designed on the basis of the NumPy library"
   ]
  },
  {
   "cell_type": "markdown",
   "metadata": {},
   "source": [
    "### The Pandas Data Structure:\n",
    "1. Series\n",
    "2. DataFrame"
   ]
  },
  {
   "cell_type": "markdown",
   "metadata": {},
   "source": [
    "## The Series:\n",
    "\n",
    "The Series is the object of the pandas library designed to represent one-dimensional data structures,\n",
    "similarly to an array but with some additional features. Its internal structure is simple and is\n",
    "composed of two arrays associated with each other. The main array has the purpose to hold the data (data of\n",
    "any NumPy type) to which each element is associated with a label, contained within the other array, called\n",
    "the **Index**."
   ]
  },
  {
   "cell_type": "code",
   "execution_count": 1,
   "metadata": {},
   "outputs": [],
   "source": [
    "import numpy as np\n",
    "import pandas as pd"
   ]
  },
  {
   "cell_type": "markdown",
   "metadata": {},
   "source": [
    "Declaring a Series"
   ]
  },
  {
   "cell_type": "code",
   "execution_count": 7,
   "metadata": {},
   "outputs": [],
   "source": [
    "series = pd.Series([12, 15, -4, 2.14, 7])"
   ]
  },
  {
   "cell_type": "code",
   "execution_count": 8,
   "metadata": {},
   "outputs": [
    {
     "data": {
      "text/plain": [
       "0    12.00\n",
       "1    15.00\n",
       "2    -4.00\n",
       "3     2.14\n",
       "4     7.00\n",
       "dtype: float64"
      ]
     },
     "execution_count": 8,
     "metadata": {},
     "output_type": "execute_result"
    }
   ],
   "source": [
    "series"
   ]
  },
  {
   "cell_type": "code",
   "execution_count": null,
   "metadata": {},
   "outputs": [],
   "source": []
  }
 ],
 "metadata": {
  "kernelspec": {
   "display_name": "Python 3",
   "language": "python",
   "name": "python3"
  },
  "language_info": {
   "codemirror_mode": {
    "name": "ipython",
    "version": 3
   },
   "file_extension": ".py",
   "mimetype": "text/x-python",
   "name": "python",
   "nbconvert_exporter": "python",
   "pygments_lexer": "ipython3",
   "version": "3.12.0"
  }
 },
 "nbformat": 4,
 "nbformat_minor": 2
}
