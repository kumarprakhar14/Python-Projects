{
 "cells": [
  {
   "cell_type": "markdown",
   "metadata": {},
   "source": [
    "# CSVTU April-May(2023)"
   ]
  },
  {
   "cell_type": "markdown",
   "metadata": {},
   "source": [
    "Question2 (d):\n",
    "np.average() vs. np.mean() \n",
    "\n",
    "flatten and ravel functions in NumPy"
   ]
  },
  {
   "cell_type": "markdown",
   "metadata": {},
   "source": [
    "Ans.  The np.mean() method returns the arithmetic mean, but the np.average() function returns the algebraic mean if no additional parameters are specified, but it may also be used to compute a weighted average.\n",
    "\n",
    "- The term \"mean\" often refers to the \"arithmetic mean\", which is the sum of a set of numbers divided by the total number of the numbers in the set.\n",
    "- The term \"average\" refers to a variety of computations, the \"arithmetic mean\" is one of them. Other terms include 'median,' 'mode,' 'weighted mean,' 'interquartile mean,' and a variety of others."
   ]
  },
  {
   "cell_type": "code",
   "execution_count": 1,
   "metadata": {},
   "outputs": [
    {
     "name": "stdout",
     "output_type": "stream",
     "text": [
      "Array:\n",
      " [ 0  1  2  3  4  5  6  7  8  9 10 11 12 13 14]\n",
      "Mean of the array:  7.0\n"
     ]
    }
   ],
   "source": [
    "import numpy as np\n",
    "\n",
    "temp = 0\n",
    "array = np.arange(15)\n",
    "print(\"Array:\\n\", array)\n",
    "print(\"Mean of the array: \", np.mean(array))"
   ]
  },
  {
   "cell_type": "code",
   "execution_count": 2,
   "metadata": {},
   "outputs": [
    {
     "name": "stdout",
     "output_type": "stream",
     "text": [
      "Original array:\n",
      " [ 0  1  2  3  4  5  6  7  8  9 10 11 12 13 14]\n",
      "weight:  [15 14 13 12 11 10  9  8  7  6  5  4  3  2  1] \n",
      "\n",
      "origianl_array*weight:  [ 0 14 26 36 44 50 54 56 56 54 50 44 36 26 14] \n",
      "\n",
      "Sum of origianl_array*weight:  560 \n",
      "\n",
      "average when no weights were specified:  7.0 \n",
      "\n",
      "average when weights were specified:  4.666666666666667 \n",
      "\n"
     ]
    }
   ],
   "source": [
    "orginal_array = np.arange(15)\n",
    "weight = np.arange(15, 0, -1)\n",
    "\n",
    "print('Original array:\\n', orginal_array)\n",
    "print('weight: ', weight, '\\n')\n",
    "print('origianl_array*weight: ', orginal_array*weight, '\\n')\n",
    "print('Sum of origianl_array*weight: ', np.sum(orginal_array*weight), '\\n')\n",
    "print('average when no weights were specified: ',np.average(orginal_array), '\\n')\n",
    "print('average when weights were specified: ',np.average(orginal_array,weights=weight), '\\n')\n"
   ]
  },
  {
   "cell_type": "markdown",
   "metadata": {},
   "source": [
    "Weighted mean = (original_array*sum(weights))/sum(weights)"
   ]
  },
  {
   "cell_type": "markdown",
   "metadata": {},
   "source": [
    "**Note:** If the weight parameter is default(i.e. none), average() also returns the arithmetic mean"
   ]
  },
  {
   "cell_type": "markdown",
   "metadata": {},
   "source": [
    "Difference between np.average() and np.mean()\n",
    "- Many more arguments, such as dtype, out, where, and others, are available in the np.mean() method that is not accessible in the np.average() function.\n",
    "- If the weights option is specified, the np.average() function may compute a weighted mean, but np.mean() cannot.\n",
    "- Since np.average does not take into consideration boolean masks, it will compute the average over the entire collection of data. While the np.mean() method takes into account boolean masks, compute the mean solely across unmasked data."
   ]
  },
  {
   "cell_type": "markdown",
   "metadata": {},
   "source": [
    "**Conclusion**\n",
    "\n",
    "- The algebraic mean of a NumPy array may be calculated using the numpy.mean() or numpy.average() functions.\n",
    "- To compute the weighted algebraic mean, we may use numpy.average().\n",
    "- We may utilize the dtype argument of the numpy.mean() method to compute the precise value of arithmetic mean.\n",
    "- numpy.average() ignores boolean masks and computes the average across the full set of data. While the numpy.mean() function takes boolean masks into consideration, compute the mean only over unmasked data"
   ]
  },
  {
   "cell_type": "markdown",
   "metadata": {},
   "source": [
    "## ravel and flatten"
   ]
  },
  {
   "cell_type": "markdown",
   "metadata": {},
   "source": [
    "ravel is used to convert a 2D array into 1D array.\n",
    "\n",
    "flatten also changes the 2D array to 1D but not in the original array and returns copy of the original array."
   ]
  },
  {
   "cell_type": "markdown",
   "metadata": {},
   "source": [
    "Differences between Flatten() and Ravel()\n",
    "\n",
    "\n",
    "|ravel()|flatten()|\n",
    "|-------|---------|\n",
    "|Return only reference/view of the original array|Return copy of the original array|\n",
    "|If you modify the array you would notice that the value of the original array also changes.|If you modify any value of this array value of the original array is not affected.|\n",
    "|Ravel is faster than flatten() as it does not occupy any memory.|Flatten() is comparatively slower than ravel() as it occupies memory.|\n",
    "|Ravel is a library-level function.|Flatten is a method of an ndarray object.|"
   ]
  },
  {
   "cell_type": "code",
   "execution_count": 3,
   "metadata": {},
   "outputs": [
    {
     "name": "stdout",
     "output_type": "stream",
     "text": [
      "Original array:\n",
      "  [[1 2 3 4]\n",
      " [3 1 4 2]]\n",
      "\n",
      "Flatten array using flatten:  [1 2 3 4 3 1 4 2]\n"
     ]
    }
   ],
   "source": [
    "# Create a numpy array\n",
    "a = np.array([(1,2,3,4),(3,1,4,2)])\n",
    "\n",
    "# Let's print the array a\n",
    "print (\"Original array:\\n \", a)\n",
    "\n",
    "# Convert nd array to 1D array\n",
    "c = a.flatten()\n",
    "\n",
    "# Flatten passes copy of\n",
    "# original array to 'c'\n",
    "print (\"\\nFlatten array using flatten: \", c)"
   ]
  },
  {
   "cell_type": "code",
   "execution_count": 4,
   "metadata": {},
   "outputs": [
    {
     "name": "stdout",
     "output_type": "stream",
     "text": [
      "Flatten array:  [ 1  2 33  4  3  1  4  2]\n",
      "\n",
      "Original array:\n",
      "  [[1 2 3 4]\n",
      " [3 1 4 2]]\n"
     ]
    }
   ],
   "source": [
    "c[2] = 33\n",
    "\n",
    "print (\"Flatten array: \", c)\n",
    "\n",
    "# Let's print the array a\n",
    "print (\"\\nOriginal array:\\n \", a)"
   ]
  },
  {
   "cell_type": "code",
   "execution_count": 5,
   "metadata": {},
   "outputs": [
    {
     "name": "stdout",
     "output_type": "stream",
     "text": [
      "Original array:\n",
      "  [[1 2 3 4]\n",
      " [3 1 4 2]]\n",
      "\n",
      "Flatten array using ravel:  [1 2 3 4 3 1 4 2]\n"
     ]
    }
   ],
   "source": [
    "# Create a numpy array\n",
    "a = np.array([(1,2,3,4),(3,1,4,2)])\n",
    "\n",
    "# Let's print the array a\n",
    "print (\"Original array:\\n \", a)\n",
    "\n",
    "ra = np.ravel(a)\n",
    "print (\"\\nFlatten array using ravel: \", ra)\n"
   ]
  },
  {
   "cell_type": "code",
   "execution_count": 6,
   "metadata": {},
   "outputs": [
    {
     "name": "stdout",
     "output_type": "stream",
     "text": [
      "Flatten array:  [ 1  2  3 44  3  1  4  2]\n",
      "\n",
      "Original array:\n",
      "  [[ 1  2  3 44]\n",
      " [ 3  1  4  2]]\n"
     ]
    }
   ],
   "source": [
    "ra[3] = 44\n",
    "\n",
    "print (\"Flatten array: \", ra)\n",
    "\n",
    "# Let's print the array a\n",
    "print (\"\\nOriginal array:\\n \", a)\n"
   ]
  },
  {
   "cell_type": "markdown",
   "metadata": {},
   "source": [
    "Question3:"
   ]
  },
  {
   "cell_type": "markdown",
   "metadata": {},
   "source": [
    "a. What do you mean by reindexing in pandas? Create a series using dict in pandas"
   ]
  },
  {
   "cell_type": "code",
   "execution_count": 7,
   "metadata": {},
   "outputs": [
    {
     "data": {
      "text/plain": [
       "two       2\n",
       "four      4\n",
       "six       6\n",
       "eight     8\n",
       "ten      10\n",
       "dtype: int64"
      ]
     },
     "execution_count": 7,
     "metadata": {},
     "output_type": "execute_result"
    }
   ],
   "source": [
    "# reindexing in pandas(2 marks)\n",
    "import pandas as pd\n",
    "series = pd.Series([2,4,6,8,10], index=['two', 'four', 'six', 'eight', 'ten'])\n",
    "series"
   ]
  },
  {
   "cell_type": "code",
   "execution_count": 8,
   "metadata": {},
   "outputs": [
    {
     "data": {
      "text/plain": [
       "one      NaN\n",
       "two      2.0\n",
       "three    NaN\n",
       "four     4.0\n",
       "dtype: float64"
      ]
     },
     "execution_count": 8,
     "metadata": {},
     "output_type": "execute_result"
    }
   ],
   "source": [
    "series.reindex(['one', 'two', 'three', 'four'])"
   ]
  },
  {
   "cell_type": "markdown",
   "metadata": {},
   "source": [
    "During this operation of reindexing, it is therefore possible to change the order of the sequence of indexes,\n",
    "delete some of them, or add new ones. In the case of a new label, pandas add NaN as corresponding value."
   ]
  },
  {
   "cell_type": "code",
   "execution_count": 9,
   "metadata": {},
   "outputs": [
    {
     "data": {
      "text/plain": [
       "one      NaN\n",
       "four     4.0\n",
       "three    NaN\n",
       "two      2.0\n",
       "dtype: float64"
      ]
     },
     "execution_count": 9,
     "metadata": {},
     "output_type": "execute_result"
    }
   ],
   "source": [
    "# changing sequence of the values w.r.t. their respective index\n",
    "\n",
    "series.reindex(['one', 'four', 'three', 'two'])"
   ]
  },
  {
   "cell_type": "code",
   "execution_count": 10,
   "metadata": {},
   "outputs": [
    {
     "data": {
      "text/plain": [
       "{1: 'ram', 2: 'shyam', 3: 'geeta', 4: 'lakshmi'}"
      ]
     },
     "execution_count": 10,
     "metadata": {},
     "output_type": "execute_result"
    }
   ],
   "source": [
    "# series using dict in pandas\n",
    "\n",
    "Dict = {1: 'ram', 2: 'shyam', 3: 'geeta', 4: 'lakshmi'}\n",
    "Dict"
   ]
  },
  {
   "cell_type": "code",
   "execution_count": 11,
   "metadata": {},
   "outputs": [
    {
     "data": {
      "text/plain": [
       "1        ram\n",
       "2      shyam\n",
       "3      geeta\n",
       "4    lakshmi\n",
       "dtype: object"
      ]
     },
     "execution_count": 11,
     "metadata": {},
     "output_type": "execute_result"
    }
   ],
   "source": [
    "pd.Series(Dict)"
   ]
  },
  {
   "cell_type": "markdown",
   "metadata": {},
   "source": [
    "b. Expain how to create empty dataframe in pandas. Explain the different ways to create data frames in pandas."
   ]
  },
  {
   "cell_type": "code",
   "execution_count": 12,
   "metadata": {},
   "outputs": [
    {
     "data": {
      "text/plain": [
       "{}"
      ]
     },
     "execution_count": 12,
     "metadata": {},
     "output_type": "execute_result"
    }
   ],
   "source": [
    "Dict = {}\n",
    "Dict\n",
    "print('empty data frame')\n"
   ]
  },
  {
   "cell_type": "code",
   "execution_count": null,
   "metadata": {},
   "outputs": [],
   "source": []
  }
 ],
 "metadata": {
  "kernelspec": {
   "display_name": "Python 3",
   "language": "python",
   "name": "python3"
  },
  "language_info": {
   "codemirror_mode": {
    "name": "ipython",
    "version": 3
   },
   "file_extension": ".py",
   "mimetype": "text/x-python",
   "name": "python",
   "nbconvert_exporter": "python",
   "pygments_lexer": "ipython3",
   "version": "3.12.0"
  }
 },
 "nbformat": 4,
 "nbformat_minor": 2
}
