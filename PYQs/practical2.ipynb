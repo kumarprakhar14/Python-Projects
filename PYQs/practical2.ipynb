{
 "cells": [
  {
   "cell_type": "code",
   "execution_count": 1,
   "metadata": {},
   "outputs": [],
   "source": [
    "import pandas as pd"
   ]
  },
  {
   "cell_type": "markdown",
   "metadata": {},
   "source": [
    "WAP to demonstrate different ways to create pandas dataframe"
   ]
  },
  {
   "cell_type": "code",
   "execution_count": 3,
   "metadata": {},
   "outputs": [
    {
     "data": {
      "text/plain": [
       "0    1\n",
       "1    2\n",
       "2    3\n",
       "3    4\n",
       "4    5\n",
       "dtype: int64"
      ]
     },
     "execution_count": 3,
     "metadata": {},
     "output_type": "execute_result"
    }
   ],
   "source": [
    "# 1 using list\n",
    "\n",
    "list1 = [1,2,3,4,5]\n",
    "series1 = pd.Series(list1)\n",
    "series1"
   ]
  },
  {
   "cell_type": "code",
   "execution_count": 5,
   "metadata": {},
   "outputs": [
    {
     "data": {
      "text/plain": [
       "0    1\n",
       "1    2\n",
       "2    3\n",
       "3    4\n",
       "4    5\n",
       "dtype: int32"
      ]
     },
     "execution_count": 5,
     "metadata": {},
     "output_type": "execute_result"
    }
   ],
   "source": [
    "# 2 using numpy array\n",
    "import numpy as np\n",
    "array1 = np.arange(1,6)\n",
    "series2 = pd.Series(array1)\n",
    "series2"
   ]
  },
  {
   "cell_type": "code",
   "execution_count": 5,
   "metadata": {},
   "outputs": [
    {
     "data": {
      "text/plain": [
       "a    1\n",
       "b    2\n",
       "c    3\n",
       "d    4\n",
       "e    5\n",
       "dtype: int64"
      ]
     },
     "execution_count": 5,
     "metadata": {},
     "output_type": "execute_result"
    }
   ],
   "source": [
    "# 3 using dictionary\n",
    "\n",
    "dict1 = {'a': 1, 'b': 2, 'c': 3, 'd': 4, 'e': 5}\n",
    "series3 = pd.Series(dict1)\n",
    "series3"
   ]
  },
  {
   "cell_type": "code",
   "execution_count": 7,
   "metadata": {},
   "outputs": [
    {
     "data": {
      "text/plain": [
       "0    1\n",
       "1    2\n",
       "2    3\n",
       "3    4\n",
       "4    5\n",
       "dtype: int64"
      ]
     },
     "execution_count": 7,
     "metadata": {},
     "output_type": "execute_result"
    }
   ],
   "source": [
    "# 4 using scalar value\n",
    "\n",
    "series4 = pd.Series(10)\n",
    "series4"
   ]
  },
  {
   "cell_type": "code",
   "execution_count": 8,
   "metadata": {},
   "outputs": [
    {
     "data": {
      "text/plain": [
       "a    1\n",
       "b    2\n",
       "c    3\n",
       "d    4\n",
       "e    5\n",
       "dtype: int64"
      ]
     },
     "execution_count": 8,
     "metadata": {},
     "output_type": "execute_result"
    }
   ],
   "source": [
    "# 5 series with custom index\n",
    "\n",
    "list2 = [1, 2, 3, 4 ,5]\n",
    "index1 = ['a', 'b', 'c', 'd', 'e']\n",
    "series5 = pd.Series(list2, index=index1)\n",
    "series5"
   ]
  },
  {
   "cell_type": "code",
   "execution_count": 11,
   "metadata": {},
   "outputs": [
    {
     "data": {
      "text/plain": [
       "0    1\n",
       "1    2\n",
       "2    3\n",
       "3    4\n",
       "4    5\n",
       "dtype: int64"
      ]
     },
     "execution_count": 11,
     "metadata": {},
     "output_type": "execute_result"
    }
   ],
   "source": [
    "# 6 using tuple \n",
    "\n",
    "tuple1 = (1, 2, 3, 4, 5)\n",
    "series6 = pd.Series(tuple1)\n",
    "series6"
   ]
  },
  {
   "cell_type": "markdown",
   "metadata": {},
   "source": [
    "**NOTE:** We can't create pandas series using python set since set in unordered structure"
   ]
  },
  {
   "cell_type": "markdown",
   "metadata": {},
   "source": [
    "WAP to demonstrate different ways to create pandas dataframe"
   ]
  },
  {
   "cell_type": "code",
   "execution_count": 12,
   "metadata": {},
   "outputs": [
    {
     "data": {
      "text/html": [
       "<div>\n",
       "<style scoped>\n",
       "    .dataframe tbody tr th:only-of-type {\n",
       "        vertical-align: middle;\n",
       "    }\n",
       "\n",
       "    .dataframe tbody tr th {\n",
       "        vertical-align: top;\n",
       "    }\n",
       "\n",
       "    .dataframe thead th {\n",
       "        text-align: right;\n",
       "    }\n",
       "</style>\n",
       "<table border=\"1\" class=\"dataframe\">\n",
       "  <thead>\n",
       "    <tr style=\"text-align: right;\">\n",
       "      <th></th>\n",
       "    </tr>\n",
       "  </thead>\n",
       "  <tbody>\n",
       "  </tbody>\n",
       "</table>\n",
       "</div>"
      ],
      "text/plain": [
       "Empty DataFrame\n",
       "Columns: []\n",
       "Index: []"
      ]
     },
     "execution_count": 12,
     "metadata": {},
     "output_type": "execute_result"
    }
   ],
   "source": [
    "# 1 empty dataframe\n",
    "\n",
    "df = pd.DataFrame()\n",
    "df"
   ]
  },
  {
   "cell_type": "code",
   "execution_count": 14,
   "metadata": {},
   "outputs": [
    {
     "data": {
      "text/html": [
       "<div>\n",
       "<style scoped>\n",
       "    .dataframe tbody tr th:only-of-type {\n",
       "        vertical-align: middle;\n",
       "    }\n",
       "\n",
       "    .dataframe tbody tr th {\n",
       "        vertical-align: top;\n",
       "    }\n",
       "\n",
       "    .dataframe thead th {\n",
       "        text-align: right;\n",
       "    }\n",
       "</style>\n",
       "<table border=\"1\" class=\"dataframe\">\n",
       "  <thead>\n",
       "    <tr style=\"text-align: right;\">\n",
       "      <th></th>\n",
       "      <th>0</th>\n",
       "      <th>1</th>\n",
       "    </tr>\n",
       "  </thead>\n",
       "  <tbody>\n",
       "    <tr>\n",
       "      <th>0</th>\n",
       "      <td>tom</td>\n",
       "      <td>10</td>\n",
       "    </tr>\n",
       "    <tr>\n",
       "      <th>1</th>\n",
       "      <td>nick</td>\n",
       "      <td>12</td>\n",
       "    </tr>\n",
       "    <tr>\n",
       "      <th>2</th>\n",
       "      <td>mike</td>\n",
       "      <td>14</td>\n",
       "    </tr>\n",
       "  </tbody>\n",
       "</table>\n",
       "</div>"
      ],
      "text/plain": [
       "      0   1\n",
       "0   tom  10\n",
       "1  nick  12\n",
       "2  mike  14"
      ]
     },
     "execution_count": 14,
     "metadata": {},
     "output_type": "execute_result"
    }
   ],
   "source": [
    "# 2 using list of lists\n",
    "\n",
    "data = [['tom', 10], ['nick', 12], ['mike', 14]]\n",
    "df = pd.DataFrame(data)\n",
    "df"
   ]
  },
  {
   "cell_type": "code",
   "execution_count": 15,
   "metadata": {},
   "outputs": [
    {
     "data": {
      "text/html": [
       "<div>\n",
       "<style scoped>\n",
       "    .dataframe tbody tr th:only-of-type {\n",
       "        vertical-align: middle;\n",
       "    }\n",
       "\n",
       "    .dataframe tbody tr th {\n",
       "        vertical-align: top;\n",
       "    }\n",
       "\n",
       "    .dataframe thead th {\n",
       "        text-align: right;\n",
       "    }\n",
       "</style>\n",
       "<table border=\"1\" class=\"dataframe\">\n",
       "  <thead>\n",
       "    <tr style=\"text-align: right;\">\n",
       "      <th></th>\n",
       "      <th>Name</th>\n",
       "      <th>Age</th>\n",
       "    </tr>\n",
       "  </thead>\n",
       "  <tbody>\n",
       "    <tr>\n",
       "      <th>0</th>\n",
       "      <td>tom</td>\n",
       "      <td>10</td>\n",
       "    </tr>\n",
       "    <tr>\n",
       "      <th>1</th>\n",
       "      <td>nick</td>\n",
       "      <td>12</td>\n",
       "    </tr>\n",
       "    <tr>\n",
       "      <th>2</th>\n",
       "      <td>mike</td>\n",
       "      <td>14</td>\n",
       "    </tr>\n",
       "  </tbody>\n",
       "</table>\n",
       "</div>"
      ],
      "text/plain": [
       "   Name  Age\n",
       "0   tom   10\n",
       "1  nick   12\n",
       "2  mike   14"
      ]
     },
     "execution_count": 15,
     "metadata": {},
     "output_type": "execute_result"
    }
   ],
   "source": [
    "# 3 using dictionary of ndArray/list\n",
    "\n",
    "data1 = {'Name': ['tom', 'nick', 'mike'], 'Age': [10, 12, 14]}\n",
    "df1 = pd.DataFrame(data1)\n",
    "df1"
   ]
  },
  {
   "cell_type": "code",
   "execution_count": 18,
   "metadata": {},
   "outputs": [
    {
     "data": {
      "text/html": [
       "<div>\n",
       "<style scoped>\n",
       "    .dataframe tbody tr th:only-of-type {\n",
       "        vertical-align: middle;\n",
       "    }\n",
       "\n",
       "    .dataframe tbody tr th {\n",
       "        vertical-align: top;\n",
       "    }\n",
       "\n",
       "    .dataframe thead th {\n",
       "        text-align: right;\n",
       "    }\n",
       "</style>\n",
       "<table border=\"1\" class=\"dataframe\">\n",
       "  <thead>\n",
       "    <tr style=\"text-align: right;\">\n",
       "      <th></th>\n",
       "      <th>name</th>\n",
       "      <th>age</th>\n",
       "    </tr>\n",
       "  </thead>\n",
       "  <tbody>\n",
       "    <tr>\n",
       "      <th>0</th>\n",
       "      <td>tom</td>\n",
       "      <td>10</td>\n",
       "    </tr>\n",
       "    <tr>\n",
       "      <th>1</th>\n",
       "      <td>nick</td>\n",
       "      <td>12</td>\n",
       "    </tr>\n",
       "    <tr>\n",
       "      <th>2</th>\n",
       "      <td>mike</td>\n",
       "      <td>14</td>\n",
       "    </tr>\n",
       "  </tbody>\n",
       "</table>\n",
       "</div>"
      ],
      "text/plain": [
       "   name  age\n",
       "0   tom   10\n",
       "1  nick   12\n",
       "2  mike   14"
      ]
     },
     "execution_count": 18,
     "metadata": {},
     "output_type": "execute_result"
    }
   ],
   "source": [
    "# 4 using list of dictionary\n",
    "\n",
    "data2 = [{'name': 'tom', 'age': 10}, {'name': 'nick', 'age': 12}, {'name': 'mike', 'age': 14}]\n",
    "df2 = pd.DataFrame(data2)\n",
    "df2"
   ]
  },
  {
   "cell_type": "code",
   "execution_count": 19,
   "metadata": {},
   "outputs": [
    {
     "data": {
      "text/html": [
       "<div>\n",
       "<style scoped>\n",
       "    .dataframe tbody tr th:only-of-type {\n",
       "        vertical-align: middle;\n",
       "    }\n",
       "\n",
       "    .dataframe tbody tr th {\n",
       "        vertical-align: top;\n",
       "    }\n",
       "\n",
       "    .dataframe thead th {\n",
       "        text-align: right;\n",
       "    }\n",
       "</style>\n",
       "<table border=\"1\" class=\"dataframe\">\n",
       "  <thead>\n",
       "    <tr style=\"text-align: right;\">\n",
       "      <th></th>\n",
       "      <th>0</th>\n",
       "      <th>1</th>\n",
       "    </tr>\n",
       "  </thead>\n",
       "  <tbody>\n",
       "    <tr>\n",
       "      <th>0</th>\n",
       "      <td>tom</td>\n",
       "      <td>10</td>\n",
       "    </tr>\n",
       "    <tr>\n",
       "      <th>1</th>\n",
       "      <td>nick</td>\n",
       "      <td>12</td>\n",
       "    </tr>\n",
       "    <tr>\n",
       "      <th>2</th>\n",
       "      <td>mike</td>\n",
       "      <td>14</td>\n",
       "    </tr>\n",
       "  </tbody>\n",
       "</table>\n",
       "</div>"
      ],
      "text/plain": [
       "      0   1\n",
       "0   tom  10\n",
       "1  nick  12\n",
       "2  mike  14"
      ]
     },
     "execution_count": 19,
     "metadata": {},
     "output_type": "execute_result"
    }
   ],
   "source": [
    "# 5 using zip() function\n",
    "\n",
    "name = ['tom', 'nick', 'mike']\n",
    "age = [10, 12, 14]\n",
    "# getting list of tuple from the two lists\n",
    "# merging  them using zip() function\n",
    "\n",
    "list_of_tuple = list(zip(name, age))\n",
    "\n",
    "df3 = pd.DataFrame(list_of_tuple)\n",
    "df3"
   ]
  },
  {
   "cell_type": "markdown",
   "metadata": {},
   "source": [
    "WAP to iterate over rows in a pandas dataframe"
   ]
  },
  {
   "cell_type": "code",
   "execution_count": 20,
   "metadata": {},
   "outputs": [
    {
     "data": {
      "text/html": [
       "<div>\n",
       "<style scoped>\n",
       "    .dataframe tbody tr th:only-of-type {\n",
       "        vertical-align: middle;\n",
       "    }\n",
       "\n",
       "    .dataframe tbody tr th {\n",
       "        vertical-align: top;\n",
       "    }\n",
       "\n",
       "    .dataframe thead th {\n",
       "        text-align: right;\n",
       "    }\n",
       "</style>\n",
       "<table border=\"1\" class=\"dataframe\">\n",
       "  <thead>\n",
       "    <tr style=\"text-align: right;\">\n",
       "      <th></th>\n",
       "      <th>Name</th>\n",
       "      <th>Age</th>\n",
       "      <th>Stream</th>\n",
       "      <th>Percentage</th>\n",
       "    </tr>\n",
       "  </thead>\n",
       "  <tbody>\n",
       "    <tr>\n",
       "      <th>0</th>\n",
       "      <td>Ankit</td>\n",
       "      <td>21</td>\n",
       "      <td>Math</td>\n",
       "      <td>88</td>\n",
       "    </tr>\n",
       "    <tr>\n",
       "      <th>1</th>\n",
       "      <td>Amit</td>\n",
       "      <td>19</td>\n",
       "      <td>Commerce</td>\n",
       "      <td>92</td>\n",
       "    </tr>\n",
       "    <tr>\n",
       "      <th>2</th>\n",
       "      <td>Aishwarya</td>\n",
       "      <td>20</td>\n",
       "      <td>Arts</td>\n",
       "      <td>95</td>\n",
       "    </tr>\n",
       "    <tr>\n",
       "      <th>3</th>\n",
       "      <td>Priyanka</td>\n",
       "      <td>18</td>\n",
       "      <td>Biology</td>\n",
       "      <td>70</td>\n",
       "    </tr>\n",
       "  </tbody>\n",
       "</table>\n",
       "</div>"
      ],
      "text/plain": [
       "        Name  Age    Stream  Percentage\n",
       "0      Ankit   21      Math          88\n",
       "1       Amit   19  Commerce          92\n",
       "2  Aishwarya   20      Arts          95\n",
       "3   Priyanka   18   Biology          70"
      ]
     },
     "execution_count": 20,
     "metadata": {},
     "output_type": "execute_result"
    }
   ],
   "source": [
    "data = {'Name': ['Ankit', 'Amit', 'Aishwarya', 'Priyanka'], 'Age': [21, 19, 20, 18], \n",
    "        'Stream': ['Math', 'Commerce', 'Arts', 'Biology'], 'Percentage': [88, 92, 95, 70]}\n",
    "df = pd.DataFrame(data)\n",
    "df"
   ]
  },
  {
   "cell_type": "code",
   "execution_count": 21,
   "metadata": {},
   "outputs": [
    {
     "name": "stdout",
     "output_type": "stream",
     "text": [
      "Ankit Math\n",
      "Amit Commerce\n",
      "Aishwarya Arts\n",
      "Priyanka Biology\n"
     ]
    }
   ],
   "source": [
    "# 1 using index attribute\n",
    "\n",
    "for ind in df.index:\n",
    "    print(df['Name'][ind], df['Stream'][ind])"
   ]
  },
  {
   "cell_type": "code",
   "execution_count": 33,
   "metadata": {},
   "outputs": [
    {
     "name": "stdout",
     "output_type": "stream",
     "text": [
      "Ankit 21\n",
      "Amit 19\n",
      "Aishwarya 20\n",
      "Priyanka 18\n"
     ]
    }
   ],
   "source": [
    "# 2 using loc() function\n",
    "# syntax: df.loc[row no., col name]\n",
    "\n",
    "for i in range(len(df)):\n",
    "    print(df.loc[i, 'Name'], df.loc[i, 'Age'])"
   ]
  },
  {
   "cell_type": "code",
   "execution_count": 34,
   "metadata": {},
   "outputs": [
    {
     "name": "stdout",
     "output_type": "stream",
     "text": [
      "Ankit Math\n",
      "Amit Commerce\n",
      "Aishwarya Arts\n",
      "Priyanka Biology\n"
     ]
    }
   ],
   "source": [
    "# 3 using iloc() function\n",
    "# syntax: df.iloc[row no, col no]\n",
    "\n",
    "for i in range(len(df)): \n",
    "    print(df.iloc[i, 0], df.iloc[i, 2])"
   ]
  },
  {
   "cell_type": "code",
   "execution_count": 35,
   "metadata": {},
   "outputs": [
    {
     "name": "stdout",
     "output_type": "stream",
     "text": [
      "Ankit 21\n",
      "Amit 19\n",
      "Aishwarya 20\n",
      "Priyanka 18\n"
     ]
    }
   ],
   "source": [
    "# 4 using iterrows()\n",
    "\n",
    "for  index, row in df.iterrows():\n",
    "    print(row['Name'], row['Age'])"
   ]
  },
  {
   "cell_type": "markdown",
   "metadata": {},
   "source": [
    "WAP to add a column to the existing dataframe "
   ]
  },
  {
   "cell_type": "code",
   "execution_count": 2,
   "metadata": {},
   "outputs": [
    {
     "data": {
      "text/html": [
       "<div>\n",
       "<style scoped>\n",
       "    .dataframe tbody tr th:only-of-type {\n",
       "        vertical-align: middle;\n",
       "    }\n",
       "\n",
       "    .dataframe tbody tr th {\n",
       "        vertical-align: top;\n",
       "    }\n",
       "\n",
       "    .dataframe thead th {\n",
       "        text-align: right;\n",
       "    }\n",
       "</style>\n",
       "<table border=\"1\" class=\"dataframe\">\n",
       "  <thead>\n",
       "    <tr style=\"text-align: right;\">\n",
       "      <th></th>\n",
       "      <th>Name</th>\n",
       "      <th>Age</th>\n",
       "      <th>Stream</th>\n",
       "      <th>Percentage</th>\n",
       "    </tr>\n",
       "  </thead>\n",
       "  <tbody>\n",
       "    <tr>\n",
       "      <th>0</th>\n",
       "      <td>Ankit</td>\n",
       "      <td>21</td>\n",
       "      <td>Math</td>\n",
       "      <td>88</td>\n",
       "    </tr>\n",
       "    <tr>\n",
       "      <th>1</th>\n",
       "      <td>Amit</td>\n",
       "      <td>19</td>\n",
       "      <td>Commerce</td>\n",
       "      <td>92</td>\n",
       "    </tr>\n",
       "    <tr>\n",
       "      <th>2</th>\n",
       "      <td>Aishwarya</td>\n",
       "      <td>20</td>\n",
       "      <td>Arts</td>\n",
       "      <td>95</td>\n",
       "    </tr>\n",
       "    <tr>\n",
       "      <th>3</th>\n",
       "      <td>Priyanka</td>\n",
       "      <td>18</td>\n",
       "      <td>Biology</td>\n",
       "      <td>70</td>\n",
       "    </tr>\n",
       "  </tbody>\n",
       "</table>\n",
       "</div>"
      ],
      "text/plain": [
       "        Name  Age    Stream  Percentage\n",
       "0      Ankit   21      Math          88\n",
       "1       Amit   19  Commerce          92\n",
       "2  Aishwarya   20      Arts          95\n",
       "3   Priyanka   18   Biology          70"
      ]
     },
     "execution_count": 2,
     "metadata": {},
     "output_type": "execute_result"
    }
   ],
   "source": [
    "data = {'Name': ['Ankit', 'Amit', 'Aishwarya', 'Priyanka'], 'Age': [21, 19, 20, 18], \n",
    "        'Stream': ['Math', 'Commerce', 'Arts', 'Biology'], 'Percentage': [88, 92, 95, 70]}\n",
    "df = pd.DataFrame(data)\n",
    "df"
   ]
  },
  {
   "cell_type": "code",
   "execution_count": 4,
   "metadata": {},
   "outputs": [
    {
     "data": {
      "text/html": [
       "<div>\n",
       "<style scoped>\n",
       "    .dataframe tbody tr th:only-of-type {\n",
       "        vertical-align: middle;\n",
       "    }\n",
       "\n",
       "    .dataframe tbody tr th {\n",
       "        vertical-align: top;\n",
       "    }\n",
       "\n",
       "    .dataframe thead th {\n",
       "        text-align: right;\n",
       "    }\n",
       "</style>\n",
       "<table border=\"1\" class=\"dataframe\">\n",
       "  <thead>\n",
       "    <tr style=\"text-align: right;\">\n",
       "      <th></th>\n",
       "      <th>Name</th>\n",
       "      <th>Age</th>\n",
       "      <th>Stream</th>\n",
       "      <th>Percentage</th>\n",
       "      <th>City</th>\n",
       "    </tr>\n",
       "  </thead>\n",
       "  <tbody>\n",
       "    <tr>\n",
       "      <th>0</th>\n",
       "      <td>Ankit</td>\n",
       "      <td>21</td>\n",
       "      <td>Math</td>\n",
       "      <td>88</td>\n",
       "      <td>Patna</td>\n",
       "    </tr>\n",
       "    <tr>\n",
       "      <th>1</th>\n",
       "      <td>Amit</td>\n",
       "      <td>19</td>\n",
       "      <td>Commerce</td>\n",
       "      <td>92</td>\n",
       "      <td>Raipur</td>\n",
       "    </tr>\n",
       "    <tr>\n",
       "      <th>2</th>\n",
       "      <td>Aishwarya</td>\n",
       "      <td>20</td>\n",
       "      <td>Arts</td>\n",
       "      <td>95</td>\n",
       "      <td>Bhilai</td>\n",
       "    </tr>\n",
       "    <tr>\n",
       "      <th>3</th>\n",
       "      <td>Priyanka</td>\n",
       "      <td>18</td>\n",
       "      <td>Biology</td>\n",
       "      <td>70</td>\n",
       "      <td>Delhi</td>\n",
       "    </tr>\n",
       "  </tbody>\n",
       "</table>\n",
       "</div>"
      ],
      "text/plain": [
       "        Name  Age    Stream  Percentage    City\n",
       "0      Ankit   21      Math          88   Patna\n",
       "1       Amit   19  Commerce          92  Raipur\n",
       "2  Aishwarya   20      Arts          95  Bhilai\n",
       "3   Priyanka   18   Biology          70   Delhi"
      ]
     },
     "execution_count": 4,
     "metadata": {},
     "output_type": "execute_result"
    }
   ],
   "source": [
    "df['City'] = ['Patna', 'Raipur', 'Bhilai', 'Delhi']\n",
    "df"
   ]
  },
  {
   "cell_type": "markdown",
   "metadata": {},
   "source": [
    "WAP to reshape a series ser into a DataFrame with 7 rows and 5 columns.  \n",
    "Ser = pd.Series(np.rando,.randint(1,10,35))"
   ]
  },
  {
   "cell_type": "code",
   "execution_count": 6,
   "metadata": {},
   "outputs": [
    {
     "data": {
      "text/plain": [
       "0     8\n",
       "1     6\n",
       "2     3\n",
       "3     1\n",
       "4     7\n",
       "5     4\n",
       "6     7\n",
       "7     3\n",
       "8     6\n",
       "9     2\n",
       "10    6\n",
       "11    9\n",
       "12    2\n",
       "13    4\n",
       "14    4\n",
       "15    1\n",
       "16    7\n",
       "17    5\n",
       "18    7\n",
       "19    5\n",
       "20    7\n",
       "21    6\n",
       "22    1\n",
       "23    5\n",
       "24    8\n",
       "25    9\n",
       "26    1\n",
       "27    7\n",
       "28    8\n",
       "29    6\n",
       "30    3\n",
       "31    6\n",
       "32    4\n",
       "33    9\n",
       "34    2\n",
       "dtype: int32"
      ]
     },
     "execution_count": 6,
     "metadata": {},
     "output_type": "execute_result"
    }
   ],
   "source": [
    "ser = pd.Series(np.random.randint(1, 10, 35))\n",
    "ser"
   ]
  },
  {
   "cell_type": "code",
   "execution_count": 11,
   "metadata": {},
   "outputs": [
    {
     "data": {
      "text/plain": [
       "array([[8, 6, 3, 1, 7],\n",
       "       [4, 7, 3, 6, 2],\n",
       "       [6, 9, 2, 4, 4],\n",
       "       [1, 7, 5, 7, 5],\n",
       "       [7, 6, 1, 5, 8],\n",
       "       [9, 1, 7, 8, 6],\n",
       "       [3, 6, 4, 9, 2]])"
      ]
     },
     "execution_count": 11,
     "metadata": {},
     "output_type": "execute_result"
    }
   ],
   "source": [
    "reshaped_arr = np.array(ser).reshape(7, 5)\n",
    "reshaped_arr"
   ]
  },
  {
   "cell_type": "code",
   "execution_count": 12,
   "metadata": {},
   "outputs": [
    {
     "data": {
      "text/html": [
       "<div>\n",
       "<style scoped>\n",
       "    .dataframe tbody tr th:only-of-type {\n",
       "        vertical-align: middle;\n",
       "    }\n",
       "\n",
       "    .dataframe tbody tr th {\n",
       "        vertical-align: top;\n",
       "    }\n",
       "\n",
       "    .dataframe thead th {\n",
       "        text-align: right;\n",
       "    }\n",
       "</style>\n",
       "<table border=\"1\" class=\"dataframe\">\n",
       "  <thead>\n",
       "    <tr style=\"text-align: right;\">\n",
       "      <th></th>\n",
       "      <th>0</th>\n",
       "      <th>1</th>\n",
       "      <th>2</th>\n",
       "      <th>3</th>\n",
       "      <th>4</th>\n",
       "    </tr>\n",
       "  </thead>\n",
       "  <tbody>\n",
       "    <tr>\n",
       "      <th>0</th>\n",
       "      <td>8</td>\n",
       "      <td>6</td>\n",
       "      <td>3</td>\n",
       "      <td>1</td>\n",
       "      <td>7</td>\n",
       "    </tr>\n",
       "    <tr>\n",
       "      <th>1</th>\n",
       "      <td>4</td>\n",
       "      <td>7</td>\n",
       "      <td>3</td>\n",
       "      <td>6</td>\n",
       "      <td>2</td>\n",
       "    </tr>\n",
       "    <tr>\n",
       "      <th>2</th>\n",
       "      <td>6</td>\n",
       "      <td>9</td>\n",
       "      <td>2</td>\n",
       "      <td>4</td>\n",
       "      <td>4</td>\n",
       "    </tr>\n",
       "    <tr>\n",
       "      <th>3</th>\n",
       "      <td>1</td>\n",
       "      <td>7</td>\n",
       "      <td>5</td>\n",
       "      <td>7</td>\n",
       "      <td>5</td>\n",
       "    </tr>\n",
       "    <tr>\n",
       "      <th>4</th>\n",
       "      <td>7</td>\n",
       "      <td>6</td>\n",
       "      <td>1</td>\n",
       "      <td>5</td>\n",
       "      <td>8</td>\n",
       "    </tr>\n",
       "    <tr>\n",
       "      <th>5</th>\n",
       "      <td>9</td>\n",
       "      <td>1</td>\n",
       "      <td>7</td>\n",
       "      <td>8</td>\n",
       "      <td>6</td>\n",
       "    </tr>\n",
       "    <tr>\n",
       "      <th>6</th>\n",
       "      <td>3</td>\n",
       "      <td>6</td>\n",
       "      <td>4</td>\n",
       "      <td>9</td>\n",
       "      <td>2</td>\n",
       "    </tr>\n",
       "  </tbody>\n",
       "</table>\n",
       "</div>"
      ],
      "text/plain": [
       "   0  1  2  3  4\n",
       "0  8  6  3  1  7\n",
       "1  4  7  3  6  2\n",
       "2  6  9  2  4  4\n",
       "3  1  7  5  7  5\n",
       "4  7  6  1  5  8\n",
       "5  9  1  7  8  6\n",
       "6  3  6  4  9  2"
      ]
     },
     "execution_count": 12,
     "metadata": {},
     "output_type": "execute_result"
    }
   ],
   "source": [
    "df = pd.DataFrame(reshaped_arr)\n",
    "df"
   ]
  },
  {
   "cell_type": "markdown",
   "metadata": {},
   "source": [
    "WAP to load a csv file to pandas dataframe with delimiter space"
   ]
  },
  {
   "cell_type": "code",
   "execution_count": 17,
   "metadata": {},
   "outputs": [
    {
     "data": {
      "text/html": [
       "<div>\n",
       "<style scoped>\n",
       "    .dataframe tbody tr th:only-of-type {\n",
       "        vertical-align: middle;\n",
       "    }\n",
       "\n",
       "    .dataframe tbody tr th {\n",
       "        vertical-align: top;\n",
       "    }\n",
       "\n",
       "    .dataframe thead th {\n",
       "        text-align: right;\n",
       "    }\n",
       "</style>\n",
       "<table border=\"1\" class=\"dataframe\">\n",
       "  <thead>\n",
       "    <tr style=\"text-align: right;\">\n",
       "      <th></th>\n",
       "      <th>Name    Class RollNo Subject</th>\n",
       "    </tr>\n",
       "  </thead>\n",
       "  <tbody>\n",
       "    <tr>\n",
       "      <th>0</th>\n",
       "      <td>Prakhar 5     23     English</td>\n",
       "    </tr>\n",
       "    <tr>\n",
       "      <th>1</th>\n",
       "      <td>Raj     3     12     Maths</td>\n",
       "    </tr>\n",
       "    <tr>\n",
       "      <th>2</th>\n",
       "      <td>Ankit   7     45     Science</td>\n",
       "    </tr>\n",
       "    <tr>\n",
       "      <th>3</th>\n",
       "      <td>Ritesh  2     67     Hindi</td>\n",
       "    </tr>\n",
       "  </tbody>\n",
       "</table>\n",
       "</div>"
      ],
      "text/plain": [
       "   Name    Class RollNo Subject\n",
       "0  Prakhar 5     23     English\n",
       "1    Raj     3     12     Maths\n",
       "2  Ankit   7     45     Science\n",
       "3    Ritesh  2     67     Hindi"
      ]
     },
     "execution_count": 17,
     "metadata": {},
     "output_type": "execute_result"
    }
   ],
   "source": [
    "df = pd.read_csv('C:\\\\Users\\\\Aditya Mithar\\\\Desktop\\\\KP programming\\\\Python\\\\Pandas\\\\Reading&WritingFiles\\\\mycsv10.csv')\n",
    "df"
   ]
  },
  {
   "cell_type": "markdown",
   "metadata": {},
   "source": [
    "WAP to show the use of loc() and iloc()"
   ]
  },
  {
   "cell_type": "markdown",
   "metadata": {},
   "source": [
    "loc() and iloc() are the two functions to select rows and columns from a dataframe. \n",
    "\n",
    "**loc():** It is used to select rows and columns using labels.\n",
    "\n",
    "**iloc():** It is used to select rows and columns using indices "
   ]
  },
  {
   "cell_type": "code",
   "execution_count": 18,
   "metadata": {},
   "outputs": [
    {
     "data": {
      "text/html": [
       "<div>\n",
       "<style scoped>\n",
       "    .dataframe tbody tr th:only-of-type {\n",
       "        vertical-align: middle;\n",
       "    }\n",
       "\n",
       "    .dataframe tbody tr th {\n",
       "        vertical-align: top;\n",
       "    }\n",
       "\n",
       "    .dataframe thead th {\n",
       "        text-align: right;\n",
       "    }\n",
       "</style>\n",
       "<table border=\"1\" class=\"dataframe\">\n",
       "  <thead>\n",
       "    <tr style=\"text-align: right;\">\n",
       "      <th></th>\n",
       "      <th>State Identifer</th>\n",
       "      <th>FY</th>\n",
       "      <th>Agriculture</th>\n",
       "      <th>Barren land</th>\n",
       "      <th>Buildup(Mining)</th>\n",
       "      <th>Buildup(Rural)</th>\n",
       "      <th>Buildup(Urban)</th>\n",
       "      <th>Forest</th>\n",
       "      <th>Wet lands</th>\n",
       "      <th>GDP_Agric</th>\n",
       "      <th>GDP_Industry</th>\n",
       "      <th>GDP_Service</th>\n",
       "      <th>TotalGDP</th>\n",
       "      <th>Unnamed: 13</th>\n",
       "    </tr>\n",
       "  </thead>\n",
       "  <tbody>\n",
       "    <tr>\n",
       "      <th>0</th>\n",
       "      <td>UP</td>\n",
       "      <td>2005-06</td>\n",
       "      <td>187013.85</td>\n",
       "      <td>687.72</td>\n",
       "      <td>98.53</td>\n",
       "      <td>7001.23</td>\n",
       "      <td>4141.60</td>\n",
       "      <td>12618.51</td>\n",
       "      <td>11362.04</td>\n",
       "      <td>2973694</td>\n",
       "      <td>5460143</td>\n",
       "      <td>13135777</td>\n",
       "      <td>27781788</td>\n",
       "      <td>NaN</td>\n",
       "    </tr>\n",
       "    <tr>\n",
       "      <th>1</th>\n",
       "      <td>UP</td>\n",
       "      <td>2011-12</td>\n",
       "      <td>194583.39</td>\n",
       "      <td>7587.55</td>\n",
       "      <td>367.92</td>\n",
       "      <td>8258.82</td>\n",
       "      <td>3921.13</td>\n",
       "      <td>15485.14</td>\n",
       "      <td>10567.19</td>\n",
       "      <td>8726191</td>\n",
       "      <td>9640976</td>\n",
       "      <td>22578126</td>\n",
       "      <td>41840413</td>\n",
       "      <td>NaN</td>\n",
       "    </tr>\n",
       "    <tr>\n",
       "      <th>2</th>\n",
       "      <td>UP</td>\n",
       "      <td>2015-16</td>\n",
       "      <td>194498.37</td>\n",
       "      <td>219.60</td>\n",
       "      <td>407.55</td>\n",
       "      <td>8289.32</td>\n",
       "      <td>4101.90</td>\n",
       "      <td>15469.85</td>\n",
       "      <td>10569.58</td>\n",
       "      <td>12645300</td>\n",
       "      <td>9716501</td>\n",
       "      <td>41693882</td>\n",
       "      <td>113780794</td>\n",
       "      <td>NaN</td>\n",
       "    </tr>\n",
       "    <tr>\n",
       "      <th>3</th>\n",
       "      <td>AP</td>\n",
       "      <td>2005-06</td>\n",
       "      <td>166112.16</td>\n",
       "      <td>3297.70</td>\n",
       "      <td>740.19</td>\n",
       "      <td>4922.85</td>\n",
       "      <td>2596.83</td>\n",
       "      <td>59550.71</td>\n",
       "      <td>18582.09</td>\n",
       "      <td>3128389</td>\n",
       "      <td>2489325</td>\n",
       "      <td>7126015</td>\n",
       "      <td>14197662</td>\n",
       "      <td>NaN</td>\n",
       "    </tr>\n",
       "    <tr>\n",
       "      <th>4</th>\n",
       "      <td>AP</td>\n",
       "      <td>2011-12</td>\n",
       "      <td>95892.25</td>\n",
       "      <td>15585.19</td>\n",
       "      <td>446.52</td>\n",
       "      <td>2926.42</td>\n",
       "      <td>1503.12</td>\n",
       "      <td>34572.64</td>\n",
       "      <td>11965.12</td>\n",
       "      <td>3904992</td>\n",
       "      <td>5091104</td>\n",
       "      <td>11875005</td>\n",
       "      <td>22128548</td>\n",
       "      <td>NaN</td>\n",
       "    </tr>\n",
       "    <tr>\n",
       "      <th>5</th>\n",
       "      <td>AP</td>\n",
       "      <td>2015-16</td>\n",
       "      <td>96582.82</td>\n",
       "      <td>2262.90</td>\n",
       "      <td>0.63</td>\n",
       "      <td>411.73</td>\n",
       "      <td>125.91</td>\n",
       "      <td>34043.46</td>\n",
       "      <td>12200.10</td>\n",
       "      <td>5845963</td>\n",
       "      <td>3994701</td>\n",
       "      <td>20507959</td>\n",
       "      <td>49860626</td>\n",
       "      <td>NaN</td>\n",
       "    </tr>\n",
       "    <tr>\n",
       "      <th>6</th>\n",
       "      <td>TN</td>\n",
       "      <td>2005-06</td>\n",
       "      <td>88082.68</td>\n",
       "      <td>535.13</td>\n",
       "      <td>229.76</td>\n",
       "      <td>3722.79</td>\n",
       "      <td>2075.40</td>\n",
       "      <td>20405.74</td>\n",
       "      <td>9336.85</td>\n",
       "      <td>2973694</td>\n",
       "      <td>6372872</td>\n",
       "      <td>14290360</td>\n",
       "      <td>24956705</td>\n",
       "      <td>NaN</td>\n",
       "    </tr>\n",
       "    <tr>\n",
       "      <th>7</th>\n",
       "      <td>TN</td>\n",
       "      <td>2011-12</td>\n",
       "      <td>88417.12</td>\n",
       "      <td>5320.27</td>\n",
       "      <td>597.95</td>\n",
       "      <td>6137.33</td>\n",
       "      <td>2648.07</td>\n",
       "      <td>187474.78</td>\n",
       "      <td>374949.56</td>\n",
       "      <td>3197598</td>\n",
       "      <td>13244766</td>\n",
       "      <td>26411788</td>\n",
       "      <td>43323803</td>\n",
       "      <td>NaN</td>\n",
       "    </tr>\n",
       "    <tr>\n",
       "      <th>8</th>\n",
       "      <td>TN</td>\n",
       "      <td>2015-16</td>\n",
       "      <td>88222.88</td>\n",
       "      <td>337.22</td>\n",
       "      <td>616.14</td>\n",
       "      <td>6137.33</td>\n",
       "      <td>2796.52</td>\n",
       "      <td>17087.15</td>\n",
       "      <td>9663.12</td>\n",
       "      <td>5004574</td>\n",
       "      <td>10666070</td>\n",
       "      <td>46001730</td>\n",
       "      <td>96756246</td>\n",
       "      <td>NaN</td>\n",
       "    </tr>\n",
       "    <tr>\n",
       "      <th>9</th>\n",
       "      <td>CG</td>\n",
       "      <td>2005-06</td>\n",
       "      <td>61135.84</td>\n",
       "      <td>567.84</td>\n",
       "      <td>236.47</td>\n",
       "      <td>3100.17</td>\n",
       "      <td>708.95</td>\n",
       "      <td>3196.50</td>\n",
       "      <td>3196.50</td>\n",
       "      <td>832472</td>\n",
       "      <td>1527853</td>\n",
       "      <td>1753948</td>\n",
       "      <td>4940774</td>\n",
       "      <td>NaN</td>\n",
       "    </tr>\n",
       "    <tr>\n",
       "      <th>10</th>\n",
       "      <td>CG</td>\n",
       "      <td>2011-12</td>\n",
       "      <td>61871.20</td>\n",
       "      <td>560.84</td>\n",
       "      <td>293.38</td>\n",
       "      <td>3100.17</td>\n",
       "      <td>845.75</td>\n",
       "      <td>60773.31</td>\n",
       "      <td>3346.42</td>\n",
       "      <td>1202919</td>\n",
       "      <td>3635221</td>\n",
       "      <td>3106638</td>\n",
       "      <td>8340937</td>\n",
       "      <td>NaN</td>\n",
       "    </tr>\n",
       "    <tr>\n",
       "      <th>11</th>\n",
       "      <td>CG</td>\n",
       "      <td>2015-16</td>\n",
       "      <td>64199.53</td>\n",
       "      <td>690.78</td>\n",
       "      <td>986.44</td>\n",
       "      <td>241.63</td>\n",
       "      <td>3253.68</td>\n",
       "      <td>61782.72</td>\n",
       "      <td>3435.22</td>\n",
       "      <td>1978955</td>\n",
       "      <td>1641223</td>\n",
       "      <td>6423198</td>\n",
       "      <td>19058377</td>\n",
       "      <td>NaN</td>\n",
       "    </tr>\n",
       "    <tr>\n",
       "      <th>12</th>\n",
       "      <td>MH</td>\n",
       "      <td>2005-06</td>\n",
       "      <td>210325.33</td>\n",
       "      <td>1113.03</td>\n",
       "      <td>292.45</td>\n",
       "      <td>2982.07</td>\n",
       "      <td>3024.36</td>\n",
       "      <td>56973.37</td>\n",
       "      <td>10030.45</td>\n",
       "      <td>2973694</td>\n",
       "      <td>12227434</td>\n",
       "      <td>27555905</td>\n",
       "      <td>47092933</td>\n",
       "      <td>NaN</td>\n",
       "    </tr>\n",
       "    <tr>\n",
       "      <th>13</th>\n",
       "      <td>MH</td>\n",
       "      <td>2011-12</td>\n",
       "      <td>208633.34</td>\n",
       "      <td>21738.67</td>\n",
       "      <td>394.59</td>\n",
       "      <td>3407.32</td>\n",
       "      <td>4272.82</td>\n",
       "      <td>58117.55</td>\n",
       "      <td>11125.72</td>\n",
       "      <td>5163326</td>\n",
       "      <td>22800246</td>\n",
       "      <td>48354198</td>\n",
       "      <td>77560965</td>\n",
       "      <td>NaN</td>\n",
       "    </tr>\n",
       "    <tr>\n",
       "      <th>14</th>\n",
       "      <td>MH</td>\n",
       "      <td>2015-16</td>\n",
       "      <td>207409.44</td>\n",
       "      <td>1551.70</td>\n",
       "      <td>363.67</td>\n",
       "      <td>3387.85</td>\n",
       "      <td>4162.99</td>\n",
       "      <td>56906.16</td>\n",
       "      <td>10625.06</td>\n",
       "      <td>9142618</td>\n",
       "      <td>8847319</td>\n",
       "      <td>80220792</td>\n",
       "      <td>165428361</td>\n",
       "      <td>NaN</td>\n",
       "    </tr>\n",
       "    <tr>\n",
       "      <th>15</th>\n",
       "      <td>GJ</td>\n",
       "      <td>2005-06</td>\n",
       "      <td>124758.89</td>\n",
       "      <td>204.36</td>\n",
       "      <td>114.02</td>\n",
       "      <td>1497.67</td>\n",
       "      <td>1700.47</td>\n",
       "      <td>12678.04</td>\n",
       "      <td>17781.76</td>\n",
       "      <td>3398200</td>\n",
       "      <td>6884200</td>\n",
       "      <td>10026300</td>\n",
       "      <td>23377600</td>\n",
       "      <td>`</td>\n",
       "    </tr>\n",
       "    <tr>\n",
       "      <th>16</th>\n",
       "      <td>GJ</td>\n",
       "      <td>2011-12</td>\n",
       "      <td>121155.82</td>\n",
       "      <td>23051.10</td>\n",
       "      <td>267.44</td>\n",
       "      <td>2527.34</td>\n",
       "      <td>2655.02</td>\n",
       "      <td>14842.22</td>\n",
       "      <td>9670.36</td>\n",
       "      <td>4481060</td>\n",
       "      <td>15745767</td>\n",
       "      <td>18322143</td>\n",
       "      <td>39205778</td>\n",
       "      <td>NaN</td>\n",
       "    </tr>\n",
       "    <tr>\n",
       "      <th>17</th>\n",
       "      <td>GJ</td>\n",
       "      <td>2015-16</td>\n",
       "      <td>121626.76</td>\n",
       "      <td>22126.80</td>\n",
       "      <td>277.51</td>\n",
       "      <td>2546.29</td>\n",
       "      <td>2751.91</td>\n",
       "      <td>13173.13</td>\n",
       "      <td>13365.14</td>\n",
       "      <td>7789790</td>\n",
       "      <td>5122121</td>\n",
       "      <td>28222253</td>\n",
       "      <td>89446534</td>\n",
       "      <td>NaN</td>\n",
       "    </tr>\n",
       "  </tbody>\n",
       "</table>\n",
       "</div>"
      ],
      "text/plain": [
       "   State Identifer       FY  Agriculture  Barren land  Buildup(Mining)  \\\n",
       "0               UP  2005-06    187013.85       687.72            98.53   \n",
       "1               UP  2011-12    194583.39      7587.55           367.92   \n",
       "2               UP  2015-16    194498.37       219.60           407.55   \n",
       "3               AP  2005-06    166112.16      3297.70           740.19   \n",
       "4               AP  2011-12     95892.25     15585.19           446.52   \n",
       "5               AP  2015-16     96582.82      2262.90             0.63   \n",
       "6               TN  2005-06     88082.68       535.13           229.76   \n",
       "7               TN  2011-12     88417.12      5320.27           597.95   \n",
       "8               TN  2015-16     88222.88       337.22           616.14   \n",
       "9               CG  2005-06     61135.84       567.84           236.47   \n",
       "10              CG  2011-12     61871.20       560.84           293.38   \n",
       "11              CG  2015-16     64199.53       690.78           986.44   \n",
       "12              MH  2005-06    210325.33      1113.03           292.45   \n",
       "13              MH  2011-12    208633.34     21738.67           394.59   \n",
       "14              MH  2015-16    207409.44      1551.70           363.67   \n",
       "15              GJ  2005-06    124758.89       204.36           114.02   \n",
       "16              GJ  2011-12    121155.82     23051.10           267.44   \n",
       "17              GJ  2015-16    121626.76     22126.80           277.51   \n",
       "\n",
       "    Buildup(Rural)  Buildup(Urban)     Forest  Wet lands  GDP_Agric  \\\n",
       "0          7001.23         4141.60   12618.51   11362.04    2973694   \n",
       "1          8258.82         3921.13   15485.14   10567.19    8726191   \n",
       "2          8289.32         4101.90   15469.85   10569.58   12645300   \n",
       "3          4922.85         2596.83   59550.71   18582.09    3128389   \n",
       "4          2926.42         1503.12   34572.64   11965.12    3904992   \n",
       "5           411.73          125.91   34043.46   12200.10    5845963   \n",
       "6          3722.79         2075.40   20405.74    9336.85    2973694   \n",
       "7          6137.33         2648.07  187474.78  374949.56    3197598   \n",
       "8          6137.33         2796.52   17087.15    9663.12    5004574   \n",
       "9          3100.17          708.95    3196.50    3196.50     832472   \n",
       "10         3100.17          845.75   60773.31    3346.42    1202919   \n",
       "11          241.63         3253.68   61782.72    3435.22    1978955   \n",
       "12         2982.07         3024.36   56973.37   10030.45    2973694   \n",
       "13         3407.32         4272.82   58117.55   11125.72    5163326   \n",
       "14         3387.85         4162.99   56906.16   10625.06    9142618   \n",
       "15         1497.67         1700.47   12678.04   17781.76    3398200   \n",
       "16         2527.34         2655.02   14842.22    9670.36    4481060   \n",
       "17         2546.29         2751.91   13173.13   13365.14    7789790   \n",
       "\n",
       "    GDP_Industry  GDP_Service   TotalGDP Unnamed: 13  \n",
       "0        5460143     13135777   27781788         NaN  \n",
       "1        9640976     22578126   41840413         NaN  \n",
       "2        9716501     41693882  113780794         NaN  \n",
       "3        2489325      7126015   14197662         NaN  \n",
       "4        5091104     11875005   22128548         NaN  \n",
       "5        3994701     20507959   49860626         NaN  \n",
       "6        6372872     14290360   24956705         NaN  \n",
       "7       13244766     26411788   43323803         NaN  \n",
       "8       10666070     46001730   96756246         NaN  \n",
       "9        1527853      1753948    4940774         NaN  \n",
       "10       3635221      3106638    8340937         NaN  \n",
       "11       1641223      6423198   19058377         NaN  \n",
       "12      12227434     27555905   47092933         NaN  \n",
       "13      22800246     48354198   77560965         NaN  \n",
       "14       8847319     80220792  165428361         NaN  \n",
       "15       6884200     10026300   23377600           `  \n",
       "16      15745767     18322143   39205778         NaN  \n",
       "17       5122121     28222253   89446534         NaN  "
      ]
     },
     "execution_count": 18,
     "metadata": {},
     "output_type": "execute_result"
    }
   ],
   "source": [
    "df = pd.read_csv('C:\\\\Users\\\\Aditya Mithar\\\\Desktop\\\\KP programming\\\\Python\\\\IISF\\\\Data2.csv')\n",
    "df"
   ]
  },
  {
   "cell_type": "code",
   "execution_count": 20,
   "metadata": {},
   "outputs": [
    {
     "data": {
      "text/plain": [
       "State Identifer           GJ\n",
       "FY                   2011-12\n",
       "Agriculture        121155.82\n",
       "Barren land          23051.1\n",
       "Buildup(Mining)       267.44\n",
       "Buildup(Rural)       2527.34\n",
       "Buildup(Urban)       2655.02\n",
       "Forest              14842.22\n",
       "Wet lands            9670.36\n",
       "GDP_Agric            4481060\n",
       "GDP_Industry        15745767\n",
       "GDP_Service         18322143\n",
       "TotalGDP            39205778\n",
       "Unnamed: 13              NaN\n",
       "Name: 16, dtype: object"
      ]
     },
     "execution_count": 20,
     "metadata": {},
     "output_type": "execute_result"
    }
   ],
   "source": [
    "df.loc[16]"
   ]
  },
  {
   "cell_type": "code",
   "execution_count": 21,
   "metadata": {},
   "outputs": [
    {
     "data": {
      "text/plain": [
       "14842.22"
      ]
     },
     "execution_count": 21,
     "metadata": {},
     "output_type": "execute_result"
    }
   ],
   "source": [
    "df.loc[16, 'Forest']"
   ]
  },
  {
   "cell_type": "code",
   "execution_count": 22,
   "metadata": {},
   "outputs": [
    {
     "data": {
      "text/plain": [
       "2     UP\n",
       "3     AP\n",
       "4     AP\n",
       "5     AP\n",
       "6     TN\n",
       "7     TN\n",
       "8     TN\n",
       "9     CG\n",
       "10    CG\n",
       "11    CG\n",
       "12    MH\n",
       "13    MH\n",
       "14    MH\n",
       "15    GJ\n",
       "Name: State Identifer, dtype: object"
      ]
     },
     "execution_count": 22,
     "metadata": {},
     "output_type": "execute_result"
    }
   ],
   "source": [
    "df.loc[2:15, 'State Identifer']"
   ]
  },
  {
   "cell_type": "code",
   "execution_count": 23,
   "metadata": {},
   "outputs": [
    {
     "data": {
      "text/plain": [
       "State Identifer           MH\n",
       "FY                   2005-06\n",
       "Agriculture        210325.33\n",
       "Barren land          1113.03\n",
       "Buildup(Mining)       292.45\n",
       "Buildup(Rural)       2982.07\n",
       "Buildup(Urban)       3024.36\n",
       "Forest              56973.37\n",
       "Wet lands           10030.45\n",
       "GDP_Agric            2973694\n",
       "GDP_Industry        12227434\n",
       "GDP_Service         27555905\n",
       "TotalGDP            47092933\n",
       "Unnamed: 13              NaN\n",
       "Name: 12, dtype: object"
      ]
     },
     "execution_count": 23,
     "metadata": {},
     "output_type": "execute_result"
    }
   ],
   "source": [
    "df.iloc[12]"
   ]
  },
  {
   "cell_type": "code",
   "execution_count": 24,
   "metadata": {},
   "outputs": [
    {
     "data": {
      "text/plain": [
       "'MH'"
      ]
     },
     "execution_count": 24,
     "metadata": {},
     "output_type": "execute_result"
    }
   ],
   "source": [
    "df.iloc[12, 0]"
   ]
  },
  {
   "cell_type": "code",
   "execution_count": 25,
   "metadata": {},
   "outputs": [
    {
     "data": {
      "text/plain": [
       "2     UP\n",
       "3     AP\n",
       "4     AP\n",
       "5     AP\n",
       "6     TN\n",
       "7     TN\n",
       "8     TN\n",
       "9     CG\n",
       "10    CG\n",
       "11    CG\n",
       "12    MH\n",
       "Name: State Identifer, dtype: object"
      ]
     },
     "execution_count": 25,
     "metadata": {},
     "output_type": "execute_result"
    }
   ],
   "source": [
    "df.iloc[2:13, 0]"
   ]
  },
  {
   "cell_type": "code",
   "execution_count": 26,
   "metadata": {},
   "outputs": [
    {
     "data": {
      "text/html": [
       "<div>\n",
       "<style scoped>\n",
       "    .dataframe tbody tr th:only-of-type {\n",
       "        vertical-align: middle;\n",
       "    }\n",
       "\n",
       "    .dataframe tbody tr th {\n",
       "        vertical-align: top;\n",
       "    }\n",
       "\n",
       "    .dataframe thead th {\n",
       "        text-align: right;\n",
       "    }\n",
       "</style>\n",
       "<table border=\"1\" class=\"dataframe\">\n",
       "  <thead>\n",
       "    <tr style=\"text-align: right;\">\n",
       "      <th></th>\n",
       "      <th>State Identifer</th>\n",
       "      <th>FY</th>\n",
       "      <th>Agriculture</th>\n",
       "      <th>Barren land</th>\n",
       "      <th>Buildup(Mining)</th>\n",
       "      <th>Buildup(Rural)</th>\n",
       "      <th>Buildup(Urban)</th>\n",
       "      <th>Forest</th>\n",
       "    </tr>\n",
       "  </thead>\n",
       "  <tbody>\n",
       "    <tr>\n",
       "      <th>2</th>\n",
       "      <td>UP</td>\n",
       "      <td>2015-16</td>\n",
       "      <td>194498.37</td>\n",
       "      <td>219.60</td>\n",
       "      <td>407.55</td>\n",
       "      <td>8289.32</td>\n",
       "      <td>4101.90</td>\n",
       "      <td>15469.85</td>\n",
       "    </tr>\n",
       "    <tr>\n",
       "      <th>3</th>\n",
       "      <td>AP</td>\n",
       "      <td>2005-06</td>\n",
       "      <td>166112.16</td>\n",
       "      <td>3297.70</td>\n",
       "      <td>740.19</td>\n",
       "      <td>4922.85</td>\n",
       "      <td>2596.83</td>\n",
       "      <td>59550.71</td>\n",
       "    </tr>\n",
       "    <tr>\n",
       "      <th>4</th>\n",
       "      <td>AP</td>\n",
       "      <td>2011-12</td>\n",
       "      <td>95892.25</td>\n",
       "      <td>15585.19</td>\n",
       "      <td>446.52</td>\n",
       "      <td>2926.42</td>\n",
       "      <td>1503.12</td>\n",
       "      <td>34572.64</td>\n",
       "    </tr>\n",
       "    <tr>\n",
       "      <th>5</th>\n",
       "      <td>AP</td>\n",
       "      <td>2015-16</td>\n",
       "      <td>96582.82</td>\n",
       "      <td>2262.90</td>\n",
       "      <td>0.63</td>\n",
       "      <td>411.73</td>\n",
       "      <td>125.91</td>\n",
       "      <td>34043.46</td>\n",
       "    </tr>\n",
       "    <tr>\n",
       "      <th>6</th>\n",
       "      <td>TN</td>\n",
       "      <td>2005-06</td>\n",
       "      <td>88082.68</td>\n",
       "      <td>535.13</td>\n",
       "      <td>229.76</td>\n",
       "      <td>3722.79</td>\n",
       "      <td>2075.40</td>\n",
       "      <td>20405.74</td>\n",
       "    </tr>\n",
       "    <tr>\n",
       "      <th>7</th>\n",
       "      <td>TN</td>\n",
       "      <td>2011-12</td>\n",
       "      <td>88417.12</td>\n",
       "      <td>5320.27</td>\n",
       "      <td>597.95</td>\n",
       "      <td>6137.33</td>\n",
       "      <td>2648.07</td>\n",
       "      <td>187474.78</td>\n",
       "    </tr>\n",
       "    <tr>\n",
       "      <th>8</th>\n",
       "      <td>TN</td>\n",
       "      <td>2015-16</td>\n",
       "      <td>88222.88</td>\n",
       "      <td>337.22</td>\n",
       "      <td>616.14</td>\n",
       "      <td>6137.33</td>\n",
       "      <td>2796.52</td>\n",
       "      <td>17087.15</td>\n",
       "    </tr>\n",
       "    <tr>\n",
       "      <th>9</th>\n",
       "      <td>CG</td>\n",
       "      <td>2005-06</td>\n",
       "      <td>61135.84</td>\n",
       "      <td>567.84</td>\n",
       "      <td>236.47</td>\n",
       "      <td>3100.17</td>\n",
       "      <td>708.95</td>\n",
       "      <td>3196.50</td>\n",
       "    </tr>\n",
       "    <tr>\n",
       "      <th>10</th>\n",
       "      <td>CG</td>\n",
       "      <td>2011-12</td>\n",
       "      <td>61871.20</td>\n",
       "      <td>560.84</td>\n",
       "      <td>293.38</td>\n",
       "      <td>3100.17</td>\n",
       "      <td>845.75</td>\n",
       "      <td>60773.31</td>\n",
       "    </tr>\n",
       "    <tr>\n",
       "      <th>11</th>\n",
       "      <td>CG</td>\n",
       "      <td>2015-16</td>\n",
       "      <td>64199.53</td>\n",
       "      <td>690.78</td>\n",
       "      <td>986.44</td>\n",
       "      <td>241.63</td>\n",
       "      <td>3253.68</td>\n",
       "      <td>61782.72</td>\n",
       "    </tr>\n",
       "  </tbody>\n",
       "</table>\n",
       "</div>"
      ],
      "text/plain": [
       "   State Identifer       FY  Agriculture  Barren land  Buildup(Mining)  \\\n",
       "2               UP  2015-16    194498.37       219.60           407.55   \n",
       "3               AP  2005-06    166112.16      3297.70           740.19   \n",
       "4               AP  2011-12     95892.25     15585.19           446.52   \n",
       "5               AP  2015-16     96582.82      2262.90             0.63   \n",
       "6               TN  2005-06     88082.68       535.13           229.76   \n",
       "7               TN  2011-12     88417.12      5320.27           597.95   \n",
       "8               TN  2015-16     88222.88       337.22           616.14   \n",
       "9               CG  2005-06     61135.84       567.84           236.47   \n",
       "10              CG  2011-12     61871.20       560.84           293.38   \n",
       "11              CG  2015-16     64199.53       690.78           986.44   \n",
       "\n",
       "    Buildup(Rural)  Buildup(Urban)     Forest  \n",
       "2          8289.32         4101.90   15469.85  \n",
       "3          4922.85         2596.83   59550.71  \n",
       "4          2926.42         1503.12   34572.64  \n",
       "5           411.73          125.91   34043.46  \n",
       "6          3722.79         2075.40   20405.74  \n",
       "7          6137.33         2648.07  187474.78  \n",
       "8          6137.33         2796.52   17087.15  \n",
       "9          3100.17          708.95    3196.50  \n",
       "10         3100.17          845.75   60773.31  \n",
       "11          241.63         3253.68   61782.72  "
      ]
     },
     "execution_count": 26,
     "metadata": {},
     "output_type": "execute_result"
    }
   ],
   "source": [
    "df.iloc[2:12, 0:8]"
   ]
  },
  {
   "cell_type": "code",
   "execution_count": null,
   "metadata": {},
   "outputs": [],
   "source": []
  }
 ],
 "metadata": {
  "kernelspec": {
   "display_name": "Python 3",
   "language": "python",
   "name": "python3"
  },
  "language_info": {
   "codemirror_mode": {
    "name": "ipython",
    "version": 3
   },
   "file_extension": ".py",
   "mimetype": "text/x-python",
   "name": "python",
   "nbconvert_exporter": "python",
   "pygments_lexer": "ipython3",
   "version": "3.12.0"
  }
 },
 "nbformat": 4,
 "nbformat_minor": 2
}
